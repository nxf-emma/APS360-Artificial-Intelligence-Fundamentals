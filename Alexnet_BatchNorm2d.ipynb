{
  "nbformat": 4,
  "nbformat_minor": 0,
  "metadata": {
    "colab": {
      "name": "Alexnet_BatchNorm2d",
      "provenance": [],
      "collapsed_sections": [],
      "include_colab_link": true
    },
    "kernelspec": {
      "name": "python3",
      "display_name": "Python 3"
    },
    "language_info": {
      "name": "python"
    },
    "accelerator": "GPU"
  },
  "cells": [
    {
      "cell_type": "markdown",
      "metadata": {
        "id": "view-in-github",
        "colab_type": "text"
      },
      "source": [
        "<a href=\"https://colab.research.google.com/github/nxf-emma/APS360-Artificial-Intelligence-Fundamentals/blob/main/Alexnet_BatchNorm2d.ipynb\" target=\"_parent\"><img src=\"https://colab.research.google.com/assets/colab-badge.svg\" alt=\"Open In Colab\"/></a>"
      ]
    },
    {
      "cell_type": "code",
      "execution_count": null,
      "metadata": {
        "colab": {
          "base_uri": "https://localhost:8080/"
        },
        "id": "1sah8OC1-pIq",
        "outputId": "bd812671-321d-49b7-fbf2-d63578f68889"
      },
      "outputs": [
        {
          "output_type": "stream",
          "name": "stdout",
          "text": [
            "Drive already mounted at /content/drive; to attempt to forcibly remount, call drive.mount(\"/content/drive\", force_remount=True).\n"
          ]
        }
      ],
      "source": [
        "#mount googledrive\n",
        "from google.colab import drive\n",
        "drive.mount('/content/drive')"
      ]
    },
    {
      "cell_type": "code",
      "source": [
        "import torch\n",
        "import numpy as np\n",
        "import os\n",
        "import torch.nn as nn\n",
        "import torch.nn.functional as F\n",
        "import matplotlib.pyplot as plt\n",
        "import torch.optim as optim\n",
        "import torchvision\n",
        "from torchvision import datasets, models, transforms\n",
        "from torch.utils.data.sampler import SubsetRandomSampler"
      ],
      "metadata": {
        "id": "mDAi3Xqw-vzP"
      },
      "execution_count": null,
      "outputs": []
    },
    {
      "cell_type": "markdown",
      "source": [
        "# train"
      ],
      "metadata": {
        "id": "blytVQUDUwYK"
      }
    },
    {
      "cell_type": "code",
      "source": [
        "def get_accuracy(model, dataloader):\n",
        "    \n",
        "\n",
        "    correct = 0\n",
        "    total = 0\n",
        "    for imgs, labels in dataloader:\n",
        "        \n",
        "        if use_cuda and torch.cuda.is_available():\n",
        "            imgs = imgs.cuda()\n",
        "            labels = labels.cuda()\n",
        "\n",
        "        output = model(imgs)\n",
        "        \n",
        "        #select index with maximum prediction score\n",
        "        pred = output.max(1, keepdim=True)[1]\n",
        "        correct += pred.eq(labels.view_as(pred)).sum().item()\n",
        "        total += imgs.shape[0]\n",
        "    return correct / total"
      ],
      "metadata": {
        "id": "Y22pKAZe-yXW"
      },
      "execution_count": null,
      "outputs": []
    },
    {
      "cell_type": "code",
      "source": [
        "'''\n",
        "#Convolutional Neural Network Architecture\n",
        "class CNN(nn.Module):\n",
        "    def __init__(self):\n",
        "        super(CNN, self).__init__()\n",
        "\n",
        "        self.pool = nn.MaxPool2d(2, 2) #kernel_size, stride \n",
        "\n",
        "        self.conv1 = nn.Conv2d(3, 5, 3, padding = 2) #in_channels, out_chanels, kernel_size \n",
        "        self.conv2 = nn.Conv2d(5, 25, 3) #in_channels, out_chanels, kernel_size\n",
        "        self.conv3 = nn.Conv2d(25, 50, 1)\n",
        "        self.conv4 = nn.Conv2d(50, 200, 1)\n",
        "        \n",
        "        self.fc1 = nn.Linear(200*2*2, 70) #chanels*dimension\n",
        "        self.fc3 = nn.Linear(70, 32)\n",
        "        self.fc2 = nn.Linear(32, 7) #last output channel always = 7\n",
        "        self.dropout = nn.Dropout(0.4)\n",
        "\n",
        "    def forward(self, x):\n",
        "        x = self.pool(F.relu(self.conv1(x)))\n",
        "        # 25x25\n",
        "        x = self.pool(F.relu(self.conv2(x)))\n",
        "        # 11\n",
        "        x = self.pool(F.relu(self.conv3(x)))\n",
        "        # 5\n",
        "        x = self.pool(F.relu(self.conv4(x)))\n",
        "        # 2\n",
        "\n",
        "\n",
        "        x = x.view(-1, 200*4)\n",
        "        x = F.relu(self.dropout(self.fc1(x)))\n",
        "        x = F.relu(self.dropout(self.fc3(x)))\n",
        "        x = self.fc2(x)\n",
        "        x = x.squeeze(1)\n",
        "        return x\n",
        "'''"
      ],
      "metadata": {
        "id": "S2CVXHj6-0j2"
      },
      "execution_count": null,
      "outputs": []
    },
    {
      "cell_type": "code",
      "source": [
        "def train2(model, train_data, val_data, batch_size=3000, num_epochs=5, lr = 0.01):\n",
        "    \n",
        "    num_workers = 1\n",
        "    train_loader = torch.utils.data.DataLoader(train_data, batch_size=batch_size, \n",
        "                                           num_workers=num_workers, shuffle=True)\n",
        "    val_loader = torch.utils.data.DataLoader(val_data, batch_size=batch_size, \n",
        "                                          num_workers=num_workers, shuffle=True)\n",
        "    criterion = nn.CrossEntropyLoss()\n",
        "    optimizer = optim.SGD(model.parameters(), lr=lr, momentum=0.9,weight_decay=5e-4)\n",
        "\n",
        "    iters, losses, train_acc, val_acc, val_loss = [], [], [], [],[]\n",
        "\n",
        "    # training\n",
        "    n = 0 # the number of iterations\n",
        "    for epoch in range(num_epochs):\n",
        "        print(\"Epoch\", epoch)\n",
        "        n = 0\n",
        "        for imgs, labels in iter(train_loader):\n",
        "            # print(\"iteration \", n)\n",
        "\n",
        "            if use_cuda and torch.cuda.is_available():\n",
        "                imgs = imgs.cuda()\n",
        "                labels = labels.cuda()\n",
        "\n",
        "            out = model(imgs)             # forward pass\n",
        "\n",
        "            loss = criterion(out, labels) # compute the total loss\n",
        "            loss.backward()               # backward pass (compute parameter updates)\n",
        "            optimizer.step()              # make the updates for each parameter\n",
        "            optimizer.zero_grad()         # a clean up step for PyTorch\n",
        "            n += 1\n",
        "\n",
        "        for imgs, labels in iter(val_loader):\n",
        "            # print(\"iteration \", n)\n",
        "\n",
        "            if use_cuda and torch.cuda.is_available():\n",
        "                imgs = imgs.cuda()\n",
        "                labels = labels.cuda()\n",
        "\n",
        "            out = model(imgs)             # forward pass\n",
        "\n",
        "            loss_val = criterion(out, labels) # compute the total loss\n",
        "        \n",
        "        # save the current training information\n",
        "        iters.append(epoch)\n",
        "        losses.append(float(loss)/batch_size)             # compute *average* loss\n",
        "        val_loss.append(float(loss_val)/batch_size)\n",
        "        # calculate accuracy at each epoch instead of iteration\n",
        "        # def get_accuracy(model, data):\n",
        "        train_acc.append(get_accuracy(model, train_loader)) # compute training accuracy \n",
        "        # compute validation acc every epoch\n",
        "        val_acc.append(get_accuracy(model, val_loader))  # compute validation accuracy\n",
        "        print(\"Epoch: \", epoch, \" Train Accuracy: \", train_acc[epoch])\n",
        "        print(\"Epoch: \", epoch, \" Validation Accuracy: \", val_acc[epoch])\n",
        "\n",
        "            \n",
        "\n",
        "    # plotting\n",
        "    plt.title(\"Training Curve\")\n",
        "    plt.plot(iters, losses, label=\"Train\")\n",
        "    plt.plot(iters, val_loss, label=\"val\")\n",
        "    plt.xlabel(\"Iterations\")\n",
        "    plt.ylabel(\"Loss\")\n",
        "    plt.legend(loc='best')\n",
        "    plt.show()\n",
        "\n",
        "    plt.title(\"Training Curve\")\n",
        "    plt.plot(iters, train_acc, label=\"Train\")\n",
        "    plt.plot(iters, val_acc, label=\"Validation\")\n",
        "    plt.xlabel(\"Iterations\")\n",
        "    plt.ylabel(\"Training Accuracy\")\n",
        "    plt.legend(loc='best')\n",
        "    plt.show()\n",
        "\n",
        "    print(\"Final Training Accuracy: {}\".format(train_acc[-1]))\n",
        "    print(\"Final Validation Accuracy: {}\".format(val_acc[-1]))"
      ],
      "metadata": {
        "id": "3zr9hnXl_ahW"
      },
      "execution_count": null,
      "outputs": []
    },
    {
      "cell_type": "code",
      "source": [
        "# train_path = '/content/drive/MyDrive/APS360 Team/aps360_dataset/FER-2013_final/train'\n",
        "# val_path = '/content/drive/MyDrive/APS360 Team/aps360_dataset/FER-2013_final/val'\n",
        "# test_path = '/content/drive/MyDrive/APS360 Team/aps360_dataset/FER-2013_final/test'\n",
        "\n",
        "# train_data = datasets.DatasetFolder(train_path, loader=torch.load, extensions=('.tensor'))\n",
        "# val_data = datasets.DatasetFolder(val_path, loader=torch.load, extensions=('.tensor'))\n",
        "# test_data = datasets.DatasetFolder(test_path, loader=torch.load, extensions=('.tensor'))"
      ],
      "metadata": {
        "id": "5Lb5IYAF_iP1"
      },
      "execution_count": null,
      "outputs": []
    },
    {
      "cell_type": "markdown",
      "source": [
        "# AlexNet"
      ],
      "metadata": {
        "id": "OsrfMfdZOV46"
      }
    },
    {
      "cell_type": "code",
      "source": [
        "alexnet = torchvision.models.alexnet(pretrained=True)"
      ],
      "metadata": {
        "id": "7nqfB7WJOKy7"
      },
      "execution_count": null,
      "outputs": []
    },
    {
      "cell_type": "code",
      "source": [
        "parent_path = '/content/drive/MyDrive/APS360 Team/aps360_dataset/FER-2013/'\n",
        "\n",
        "data_transform = transforms.Compose(\n",
        "    [\n",
        "        transforms.Resize((224,224)), \n",
        "        #convert image to grayscale\n",
        "        # transforms.Grayscale(num_output_channels=3),\n",
        "        #randomly adding brightness \n",
        "        # transforms.ColorJitter(brightness=(1,1.2)),\n",
        "        #apply ramdom rotation from -30 to 30 degrees\n",
        "        # transforms.RandomRotation(30),\n",
        "        #apply random horizontal flip with probability of 50% \n",
        "        transforms.RandomHorizontalFlip(p=0.5),\n",
        "        transforms.ToTensor(),\n",
        "        #normalize the data with 0.5 mean and variance.\n",
        "        transforms.Normalize((0.5073955,), (0.25,), inplace=True)\n",
        "       \n",
        "    ])\n",
        "training_set = torchvision.datasets.ImageFolder(parent_path+'train',data_transform)\n",
        "valid_set = torchvision.datasets.ImageFolder(parent_path+'valid',data_transform)\n",
        "\n",
        "# train_data = datasets.DatasetFolder(parent_path+'train', loader=torch.load, extensions=('.tensor'))\n",
        "# val_data = datasets.DatasetFolder(parent_path+'val', loader=torch.load, extensions=('.tensor'))\n",
        "# train_data = train_data.view(3,224,224)\n",
        "# val_data = val_data.view(3,224,224)"
      ],
      "metadata": {
        "id": "ZQNca4vpOVXa"
      },
      "execution_count": null,
      "outputs": []
    },
    {
      "cell_type": "code",
      "source": [
        "def get_accuracy_alex(model, data):\n",
        "    correct = 0\n",
        "    total = 0\n",
        "    # model.eval() #*********#\n",
        "    for imgs, labels in torch.utils.data.DataLoader(data):\n",
        "\n",
        "\n",
        "        #############################################\n",
        "        #To Enable GPU Usage\n",
        "        if use_cuda and torch.cuda.is_available():\n",
        "          imgs = imgs.cuda()\n",
        "          labels = labels.cuda()\n",
        "        #############################################\n",
        "        output = model(imgs)\n",
        "        pred = output.max(1, keepdim=True)[1] # get the index of the max logit\n",
        "        correct += pred.eq(labels.view_as(pred)).sum().item()\n",
        "        total += imgs.shape[0]\n",
        "    return correct / total"
      ],
      "metadata": {
        "id": "5QqUdVklPNyx"
      },
      "execution_count": null,
      "outputs": []
    },
    {
      "cell_type": "code",
      "source": [
        "def train_alex(model, train, valid, batch_size=20, num_iters=1, learn_rate=0.01, weight_decay=5e-4):\n",
        "    train_loader = torch.utils.data.DataLoader(train,\n",
        "                                               batch_size=batch_size,\n",
        "                                               shuffle=True) # shuffle after every epoch\n",
        "    criterion = nn.CrossEntropyLoss()\n",
        "    optimizer = optim.SGD(model.parameters(), lr=learn_rate, momentum=0.9, weight_decay=weight_decay)\n",
        "\n",
        "    iters, losses, train_acc, val_acc = [], [], [], []\n",
        "\n",
        "    # training\n",
        "    n = 0 # the number of iterations\n",
        "    while True:\n",
        "        if n >= num_iters:\n",
        "            break\n",
        "        for imgs, labels in iter(train_loader):\n",
        "\n",
        "\n",
        "            #############################################\n",
        "            #To Enable GPU Usage\n",
        "            if use_cuda and torch.cuda.is_available():\n",
        "              imgs = imgs.cuda()\n",
        "              labels = labels.cuda()\n",
        "            #############################################\n",
        "\n",
        "            # model.train() #*****************************#\n",
        "            out = model(imgs)             # forward pass\n",
        "            loss = criterion(out, labels) # compute the total loss\n",
        "            loss.backward()               # backward pass (compute parameter updates)\n",
        "            optimizer.step()              # make the updates for each parameter\n",
        "            optimizer.zero_grad()         # a clean up step for PyTorch\n",
        "\n",
        "            # save the current training information\n",
        "        iters.append(n)\n",
        "        losses.append(float(loss)/batch_size)        # compute *average* loss\n",
        "        train_acc.append(get_accuracy_alex(model, train)) # compute training accuracy \n",
        "        val_acc.append(get_accuracy_alex(model, valid))   # compute validation accuracy\n",
        "        print (\"Epoch \" ,n, \"Train Accuracy \", train_acc[n])\n",
        "        print (\"Epoch \" ,n, \"Validation Accuracy \", val_acc[n])\n",
        "        n += 1\n",
        "\n",
        "        \n",
        "\n",
        "\n",
        "    # plotting\n",
        "    plt.title(\"Training Curve\")\n",
        "    plt.plot(iters, losses, label=\"Train\")\n",
        "    plt.xlabel(\"Epochs\")\n",
        "    plt.ylabel(\"Loss\")\n",
        "    plt.show()\n",
        "\n",
        "    plt.title(\"Accuracy Curve\")\n",
        "    plt.plot(iters, train_acc, label=\"Train\")\n",
        "    plt.plot(iters, val_acc, label=\"Validation\")\n",
        "    plt.xlabel(\"Epochs\")\n",
        "    plt.ylabel(\"Training Accuracy\")\n",
        "    plt.legend(loc='best')\n",
        "    plt.show()\n",
        "\n",
        "    print(\"Final Training Accuracy: {}\".format(train_acc[-1]))\n",
        "    print(\"Final Validation Accuracy: {}\".format(val_acc[-1]))"
      ],
      "metadata": {
        "id": "J9L8eCjUO4sY"
      },
      "execution_count": null,
      "outputs": []
    },
    {
      "cell_type": "code",
      "source": [
        "def save_feature(data, path):\n",
        "  \n",
        "  # classes = ['A', 'B', 'C', 'D', 'E', 'F', 'G', 'H', 'I']\n",
        "  classes = ['angry', 'disgust', 'fear', 'happy', 'neutral', 'sad', 'surprise']\n",
        "\n",
        "\n",
        "  dataloader = torch.utils.data.DataLoader(data, batch_size=1) #save one at a time\n",
        "  i = 0\n",
        "  for imgs, labels in (dataloader):\n",
        "    features = alexnet.features(imgs)\n",
        "    #convert to tensor\n",
        "    x = torch.from_numpy(features.detach().numpy()) \n",
        "    # save into drive\n",
        "    fullPath = path + '/' + classes[labels]\n",
        "\n",
        "    # create folder\n",
        "    if not os.path.isdir(fullPath):\n",
        "      os.mkdir(fullPath)\n",
        "    # give name and squeeze https://piazza.com/class/ky528kuhk7b27q?cid=285\n",
        "    torch.save(x.squeeze(0), fullPath+'/' + str(i) + '.tensor')\n",
        "    i = i+1"
      ],
      "metadata": {
        "id": "iyShXBvXRLPK"
      },
      "execution_count": null,
      "outputs": []
    },
    {
      "cell_type": "code",
      "source": [
        "trainPath = '/content/drive/MyDrive/APS360 Team/aps360_dataset/FER_alexnet_big/train'\n",
        "valPath = '/content/drive/MyDrive/APS360 Team/aps360_dataset/FER_alexnet_big/valid'"
      ],
      "metadata": {
        "id": "OjZ_ISyvR__h"
      },
      "execution_count": null,
      "outputs": []
    },
    {
      "cell_type": "code",
      "source": [
        ""
      ],
      "metadata": {
        "id": "82y8aOZASuCv"
      },
      "execution_count": null,
      "outputs": []
    },
    {
      "cell_type": "markdown",
      "source": [
        "# AlexNet"
      ],
      "metadata": {
        "id": "Sct7ff0TRh7r"
      }
    },
    {
      "cell_type": "code",
      "source": [
        "'''\n",
        "# trainData, valData = getSmallerDataLoaders(32)\n",
        "trainData = torchvision.datasets.ImageFolder(trainPath, transform = data_transform)\n",
        "'''"
      ],
      "metadata": {
        "id": "89qQ0hVoTF3m",
        "colab": {
          "base_uri": "https://localhost:8080/",
          "height": 181
        },
        "outputId": "76b4b11a-5e56-4b5a-b864-97ee8fe92e69"
      },
      "execution_count": null,
      "outputs": [
        {
          "output_type": "error",
          "ename": "NameError",
          "evalue": "ignored",
          "traceback": [
            "\u001b[0;31m---------------------------------------------------------------------------\u001b[0m",
            "\u001b[0;31mNameError\u001b[0m                                 Traceback (most recent call last)",
            "\u001b[0;32m<ipython-input-6-aa24d98789ed>\u001b[0m in \u001b[0;36m<module>\u001b[0;34m()\u001b[0m\n\u001b[1;32m      1\u001b[0m \u001b[0;31m# trainData, valData = getSmallerDataLoaders(32)\u001b[0m\u001b[0;34m\u001b[0m\u001b[0;34m\u001b[0m\u001b[0;34m\u001b[0m\u001b[0m\n\u001b[0;32m----> 2\u001b[0;31m \u001b[0mtrainData\u001b[0m \u001b[0;34m=\u001b[0m \u001b[0mtorchvision\u001b[0m\u001b[0;34m.\u001b[0m\u001b[0mdatasets\u001b[0m\u001b[0;34m.\u001b[0m\u001b[0mImageFolder\u001b[0m\u001b[0;34m(\u001b[0m\u001b[0mtrainPath\u001b[0m\u001b[0;34m,\u001b[0m \u001b[0mtransform\u001b[0m \u001b[0;34m=\u001b[0m \u001b[0mdata_transform\u001b[0m\u001b[0;34m)\u001b[0m\u001b[0;34m\u001b[0m\u001b[0;34m\u001b[0m\u001b[0m\n\u001b[0m",
            "\u001b[0;31mNameError\u001b[0m: name 'data_transform' is not defined"
          ]
        }
      ]
    },
    {
      "cell_type": "code",
      "source": [
        "'''\n",
        "save_feature(training_set, trainPath)\n",
        "save_feature(valid_set, valPath)\n",
        "'''"
      ],
      "metadata": {
        "id": "eXKlYr24TKuA"
      },
      "execution_count": null,
      "outputs": []
    },
    {
      "cell_type": "code",
      "source": [
        "# Modified from Tutorial 3a and lecture notes\n",
        "class CNNalex(nn.Module):\n",
        "    def __init__(self):\n",
        "        super(CNNalex, self).__init__()\n",
        "        # nn.Conv2d(256,300,5,2)\n",
        "        self.conv1 = nn.Conv2d(256,300,3, padding = 2) # Modified to 3, in_channels, out_chanels, kernel_size\n",
        "        self.bn1 = nn.BatchNorm2d(300)\n",
        "        self.conv2 = nn.Conv2d(300,350,3)\n",
        "        self.bn2 = nn.BatchNorm2d(350)\n",
        "\n",
        "        self.pool = nn.MaxPool2d(2, 2) #kernel_size, stride \n",
        "        self.fc1 = nn.Linear(350*2*2, 32) # Modified first parameter\n",
        "        self.fc2 = nn.Linear(32, 7)\n",
        "\n",
        "    def forward(self, x):\n",
        "        x = self.pool(F.relu(self.bn1(self.conv1(x))))#4\n",
        "        x = F.relu(self.bn2(self.conv2(x)))#2\n",
        "        x = x.view(-1, 350*2*2) # Modified size\n",
        "        x = F.relu(self.fc1(x))\n",
        "        x = self.fc2(x)\n",
        "        return x"
      ],
      "metadata": {
        "id": "clTqe1L2XYdd"
      },
      "execution_count": null,
      "outputs": []
    },
    {
      "cell_type": "code",
      "source": [
        "tPath = '/content/drive/MyDrive/APS360 Team/Small AlexNet/train'\n",
        "vPath = '/content/drive/MyDrive/APS360 Team/Small AlexNet/valid'\n",
        "\n",
        "tData = torchvision.datasets.DatasetFolder(trainPath, loader=torch.load, extensions = ('.tensor'))\n",
        "vData = torchvision.datasets.DatasetFolder(valPath,loader=torch.load, extensions = ('.tensor'))"
      ],
      "metadata": {
        "id": "AUqv_LSqYM2k"
      },
      "execution_count": null,
      "outputs": []
    },
    {
      "cell_type": "code",
      "source": [
        "use_cuda = True\n",
        "model1 = CNNalex()\n",
        "\n",
        "if use_cuda and torch.cuda.is_available():\n",
        "  model1.cuda()\n",
        "  print('CUDA is available!  Training on GPU ...')\n",
        "else:\n",
        "  print('CUDA is not available.  Training on CPU ...')\n",
        "\n",
        "train2(model1, tData, vData, batch_size = 500, lr= 0.01, num_epochs=30)\n"
      ],
      "metadata": {
        "id": "StsTafJpRGPT",
        "colab": {
          "base_uri": "https://localhost:8080/",
          "height": 1000
        },
        "outputId": "6d10ba4a-a6c2-4dc4-ce55-7ef3f18d3931"
      },
      "execution_count": null,
      "outputs": [
        {
          "output_type": "stream",
          "name": "stdout",
          "text": [
            "CUDA is available!  Training on GPU ...\n",
            "Epoch 0\n",
            "Epoch:  0  Train Accuracy:  0.5556794036713226\n",
            "Epoch:  0  Validation Accuracy:  0.530231262190025\n",
            "Epoch 1\n",
            "Epoch:  1  Train Accuracy:  0.6310912954125883\n",
            "Epoch:  1  Validation Accuracy:  0.5642240178322653\n",
            "Epoch 2\n",
            "Epoch:  2  Train Accuracy:  0.719077641157825\n",
            "Epoch:  2  Validation Accuracy:  0.5801058790749513\n",
            "Epoch 3\n",
            "Epoch:  3  Train Accuracy:  0.7878017346476714\n",
            "Epoch:  3  Validation Accuracy:  0.5764837001950404\n",
            "Epoch 4\n",
            "Epoch:  4  Train Accuracy:  0.8442996969591418\n",
            "Epoch:  4  Validation Accuracy:  0.5759264419058233\n",
            "Epoch 5\n",
            "Epoch:  5  Train Accuracy:  0.9036887387230486\n",
            "Epoch:  5  Validation Accuracy:  0.5553078852047925\n",
            "Epoch 6\n",
            "Epoch:  6  Train Accuracy:  0.9265038837995054\n",
            "Epoch:  6  Validation Accuracy:  0.5647812761214823\n",
            "Epoch 7\n",
            "Epoch:  7  Train Accuracy:  0.9711240377581943\n",
            "Epoch:  7  Validation Accuracy:  0.5792699916411257\n",
            "Epoch 8\n",
            "Epoch:  8  Train Accuracy:  0.983907485457522\n",
            "Epoch:  8  Validation Accuracy:  0.5692393424352187\n",
            "Epoch 9\n",
            "Epoch:  9  Train Accuracy:  0.9908042774042983\n",
            "Epoch:  9  Validation Accuracy:  0.5792699916411257\n",
            "Epoch 10\n",
            "Epoch:  10  Train Accuracy:  0.991291929360131\n",
            "Epoch:  10  Validation Accuracy:  0.5781554750626916\n",
            "Epoch 11\n",
            "Epoch:  11  Train Accuracy:  0.9965864363091713\n",
            "Epoch:  11  Validation Accuracy:  0.5890220117024241\n",
            "Epoch 12\n",
            "Epoch:  12  Train Accuracy:  0.9983280504371451\n",
            "Epoch:  12  Validation Accuracy:  0.5904151574254667\n",
            "Epoch 13\n",
            "Epoch:  13  Train Accuracy:  0.9983628827197046\n",
            "Epoch:  13  Validation Accuracy:  0.5856784619671218\n",
            "Epoch 14\n",
            "Epoch:  14  Train Accuracy:  0.9984325472848236\n",
            "Epoch:  14  Validation Accuracy:  0.5973808860406798\n",
            "Epoch 15\n",
            "Epoch:  15  Train Accuracy:  0.9983628827197046\n",
            "Epoch:  15  Validation Accuracy:  0.5998885483421565\n",
            "Epoch 16\n",
            "Epoch:  16  Train Accuracy:  0.9985718764150615\n",
            "Epoch:  16  Validation Accuracy:  0.5948732237392031\n",
            "Epoch 17\n",
            "Epoch:  17  Train Accuracy:  0.9987460378278589\n",
            "Epoch:  17  Validation Accuracy:  0.6007244357759821\n",
            "Epoch 18\n",
            "Epoch:  18  Train Accuracy:  0.99867637326274\n",
            "Epoch:  18  Validation Accuracy:  0.5959877403176372\n",
            "Epoch 19\n",
            "Epoch:  19  Train Accuracy:  0.9987460378278589\n",
            "Epoch:  19  Validation Accuracy:  0.5973808860406798\n",
            "Epoch 20\n",
            "Epoch:  20  Train Accuracy:  0.99867637326274\n",
            "Epoch:  20  Validation Accuracy:  0.5998885483421565\n",
            "Epoch 21\n",
            "Epoch:  21  Train Accuracy:  0.9988157023929778\n",
            "Epoch:  21  Validation Accuracy:  0.5987740317637225\n",
            "Epoch 22\n",
            "Epoch:  22  Train Accuracy:  0.9988853669580967\n",
            "Epoch:  22  Validation Accuracy:  0.5993312900529395\n",
            "Epoch 23\n",
            "Epoch:  23  Train Accuracy:  0.9987808701104184\n",
            "Epoch:  23  Validation Accuracy:  0.6001671774867651\n",
            "Epoch 24\n",
            "Epoch:  24  Train Accuracy:  0.9989201992406562\n",
            "Epoch:  24  Validation Accuracy:  0.5951518528838117\n",
            "Epoch 25\n",
            "Epoch:  25  Train Accuracy:  0.9988157023929778\n",
            "Epoch:  25  Validation Accuracy:  0.5973808860406798\n",
            "Epoch 26\n",
            "Epoch:  26  Train Accuracy:  0.9987808701104184\n",
            "Epoch:  26  Validation Accuracy:  0.6010030649205907\n",
            "Epoch 27\n",
            "Epoch:  27  Train Accuracy:  0.9989201992406562\n",
            "Epoch:  27  Validation Accuracy:  0.5954304820284202\n",
            "Epoch 28\n",
            "Epoch:  28  Train Accuracy:  0.9988853669580967\n",
            "Epoch:  28  Validation Accuracy:  0.6054611312343271\n",
            "Epoch 29\n",
            "Epoch:  29  Train Accuracy:  0.9988505346755373\n",
            "Epoch:  29  Validation Accuracy:  0.5998885483421565\n"
          ]
        },
        {
          "output_type": "display_data",
          "data": {
            "text/plain": [
              "<Figure size 432x288 with 1 Axes>"
            ],
            "image/png": "[encoded data removed]"
          },
          "metadata": {
            "needs_background": "light"
          }
        },
        {
          "output_type": "display_data",
          "data": {
            "text/plain": [
              "<Figure size 432x288 with 1 Axes>"
            ],
            "image/png": "[encoded data removed]"
          },
          "metadata": {
            "needs_background": "light"
          }
        },
        {
          "output_type": "stream",
          "name": "stdout",
          "text": [
            "Final Training Accuracy: 0.9988505346755373\n",
            "Final Validation Accuracy: 0.5998885483421565\n"
          ]
        }
      ]
    },
    {
      "cell_type": "code",
      "source": [
        "train2(model1, tData, vData, batch_size = 500, lr= 0.005, num_epochs=10)"
      ],
      "metadata": {
        "colab": {
          "base_uri": "https://localhost:8080/",
          "height": 1000
        },
        "id": "wNJ6kh1heP9W",
        "outputId": "6793dc1c-6713-4d2f-dbee-920ad81c17be"
      },
      "execution_count": null,
      "outputs": [
        {
          "output_type": "stream",
          "name": "stdout",
          "text": [
            "Epoch 0\n",
            "Epoch:  0  Train Accuracy:  0.9989550315232157\n",
            "Epoch:  0  Validation Accuracy:  0.6012816940651993\n",
            "Epoch 1\n",
            "Epoch:  1  Train Accuracy:  0.9989898638057751\n",
            "Epoch:  1  Validation Accuracy:  0.5976595151852884\n",
            "Epoch 2\n",
            "Epoch:  2  Train Accuracy:  0.9989550315232157\n",
            "Epoch:  2  Validation Accuracy:  0.5982167734745054\n",
            "Epoch 3\n",
            "Epoch:  3  Train Accuracy:  0.9989201992406562\n",
            "Epoch:  3  Validation Accuracy:  0.5979381443298969\n",
            "Epoch 4\n",
            "Epoch:  4  Train Accuracy:  0.9990246960883347\n",
            "Epoch:  4  Validation Accuracy:  0.6054611312343271\n",
            "Epoch 5\n",
            "Epoch:  5  Train Accuracy:  0.9989898638057751\n",
            "Epoch:  5  Validation Accuracy:  0.6029534689328504\n",
            "Epoch 6\n",
            "Epoch:  6  Train Accuracy:  0.9989201992406562\n",
            "Epoch:  6  Validation Accuracy:  0.603789356366676\n",
            "Epoch 7\n",
            "Epoch:  7  Train Accuracy:  0.9989550315232157\n",
            "Epoch:  7  Validation Accuracy:  0.6026748397882419\n",
            "Epoch 8\n",
            "Epoch:  8  Train Accuracy:  0.9990246960883347\n",
            "Epoch:  8  Validation Accuracy:  0.6035107272220674\n",
            "Epoch 9\n",
            "Epoch:  9  Train Accuracy:  0.9989550315232157\n",
            "Epoch:  9  Validation Accuracy:  0.6029534689328504\n"
          ]
        },
        {
          "output_type": "display_data",
          "data": {
            "text/plain": [
              "<Figure size 432x288 with 1 Axes>"
            ],
            "image/png": "[encoded data removed]"
          },
          "metadata": {
            "needs_background": "light"
          }
        },
        {
          "output_type": "display_data",
          "data": {
            "text/plain": [
              "<Figure size 432x288 with 1 Axes>"
            ],
            "image/png": "[encoded data removed]"
          },
          "metadata": {
            "needs_background": "light"
          }
        },
        {
          "output_type": "stream",
          "name": "stdout",
          "text": [
            "Final Training Accuracy: 0.9989550315232157\n",
            "Final Validation Accuracy: 0.6029534689328504\n"
          ]
        }
      ]
    },
    {
      "cell_type": "code",
      "source": [
        "train2(model1, tData, vData, batch_size = 500, lr= 0.005, num_epochs=15)"
      ],
      "metadata": {
        "colab": {
          "base_uri": "https://localhost:8080/",
          "height": 1000
        },
        "id": "BsQH88RBYtsI",
        "outputId": "fa49dda5-4d26-4f7f-d350-d6c949d1b7ae"
      },
      "execution_count": null,
      "outputs": [
        {
          "output_type": "stream",
          "name": "stdout",
          "text": [
            "Epoch 0\n",
            "Epoch:  0  Train Accuracy:  0.9989898638057751\n",
            "Epoch:  0  Validation Accuracy:  0.5998885483421565\n",
            "Epoch 1\n",
            "Epoch:  1  Train Accuracy:  0.9990246960883347\n",
            "Epoch:  1  Validation Accuracy:  0.5984954026191139\n",
            "Epoch 2\n",
            "Epoch:  2  Train Accuracy:  0.9989898638057751\n",
            "Epoch:  2  Validation Accuracy:  0.6004458066313736\n",
            "Epoch 3\n",
            "Epoch:  3  Train Accuracy:  0.9989550315232157\n",
            "Epoch:  3  Validation Accuracy:  0.5971022568960713\n",
            "Epoch 4\n",
            "Epoch:  4  Train Accuracy:  0.9990246960883347\n",
            "Epoch:  4  Validation Accuracy:  0.6015603232098078\n",
            "Epoch 5\n",
            "Epoch:  5  Train Accuracy:  0.9989550315232157\n",
            "Epoch:  5  Validation Accuracy:  0.6007244357759821\n",
            "Epoch 6\n",
            "Epoch:  6  Train Accuracy:  0.9989898638057751\n",
            "Epoch:  6  Validation Accuracy:  0.6012816940651993\n",
            "Epoch 7\n",
            "Epoch:  7  Train Accuracy:  0.9990246960883347\n",
            "Epoch:  7  Validation Accuracy:  0.5993312900529395\n",
            "Epoch 8\n",
            "Epoch:  8  Train Accuracy:  0.9990246960883347\n",
            "Epoch:  8  Validation Accuracy:  0.6023962106436334\n",
            "Epoch 9\n",
            "Epoch:  9  Train Accuracy:  0.9989898638057751\n",
            "Epoch:  9  Validation Accuracy:  0.6018389523544163\n",
            "Epoch 10\n",
            "Epoch:  10  Train Accuracy:  0.9989550315232157\n",
            "Epoch:  10  Validation Accuracy:  0.6015603232098078\n",
            "Epoch 11\n",
            "Epoch:  11  Train Accuracy:  0.9989898638057751\n",
            "Epoch:  11  Validation Accuracy:  0.6015603232098078\n",
            "Epoch 12\n",
            "Epoch:  12  Train Accuracy:  0.9990246960883347\n",
            "Epoch:  12  Validation Accuracy:  0.604346614655893\n",
            "Epoch 13\n",
            "Epoch:  13  Train Accuracy:  0.9989201992406562\n",
            "Epoch:  13  Validation Accuracy:  0.5998885483421565\n",
            "Epoch 14\n",
            "Epoch:  14  Train Accuracy:  0.9989201992406562\n",
            "Epoch:  14  Validation Accuracy:  0.6026748397882419\n"
          ]
        },
        {
          "output_type": "display_data",
          "data": {
            "text/plain": [
              "<Figure size 432x288 with 1 Axes>"
            ],
            "image/png": "[encoded data removed]"
          },
          "metadata": {
            "needs_background": "light"
          }
        },
        {
          "output_type": "display_data",
          "data": {
            "text/plain": [
              "<Figure size 432x288 with 1 Axes>"
            ],
            "image/png": "[encoded data removed]"
          },
          "metadata": {
            "needs_background": "light"
          }
        },
        {
          "output_type": "stream",
          "name": "stdout",
          "text": [
            "Final Training Accuracy: 0.9989201992406562\n",
            "Final Validation Accuracy: 0.6026748397882419\n"
          ]
        }
      ]
    },
    {
      "cell_type": "code",
      "source": [
        "train2(model1, tData, vData, batch_size = 500, lr= 0.005, num_epochs=15)"
      ],
      "metadata": {
        "colab": {
          "base_uri": "https://localhost:8080/",
          "height": 1000
        },
        "id": "Yp1GOSwydwOu",
        "outputId": "be2b171f-0a7a-43cd-cf67-795f380652f3"
      },
      "execution_count": null,
      "outputs": [
        {
          "output_type": "stream",
          "name": "stdout",
          "text": [
            "Epoch 0\n",
            "Epoch:  0  Train Accuracy:  0.9989201992406562\n",
            "Epoch:  0  Validation Accuracy:  0.5965449986068543\n",
            "Epoch 1\n",
            "Epoch:  1  Train Accuracy:  0.9990246960883347\n",
            "Epoch:  1  Validation Accuracy:  0.5965449986068543\n",
            "Epoch 2\n",
            "Epoch:  2  Train Accuracy:  0.9989550315232157\n",
            "Epoch:  2  Validation Accuracy:  0.6015603232098078\n",
            "Epoch 3\n",
            "Epoch:  3  Train Accuracy:  0.9990246960883347\n",
            "Epoch:  3  Validation Accuracy:  0.6023962106436334\n",
            "Epoch 4\n",
            "Epoch:  4  Train Accuracy:  0.9990246960883347\n",
            "Epoch:  4  Validation Accuracy:  0.5965449986068543\n",
            "Epoch 5\n",
            "Epoch:  5  Train Accuracy:  0.9989201992406562\n",
            "Epoch:  5  Validation Accuracy:  0.599609919197548\n",
            "Epoch 6\n",
            "Epoch:  6  Train Accuracy:  0.9989898638057751\n",
            "Epoch:  6  Validation Accuracy:  0.6026748397882419\n",
            "Epoch 7\n",
            "Epoch:  7  Train Accuracy:  0.9989550315232157\n",
            "Epoch:  7  Validation Accuracy:  0.5984954026191139\n",
            "Epoch 8\n",
            "Epoch:  8  Train Accuracy:  0.9990943606534536\n",
            "Epoch:  8  Validation Accuracy:  0.6007244357759821\n",
            "Epoch 9\n",
            "Epoch:  9  Train Accuracy:  0.9989550315232157\n",
            "Epoch:  9  Validation Accuracy:  0.6023962106436334\n",
            "Epoch 10\n",
            "Epoch:  10  Train Accuracy:  0.9989898638057751\n",
            "Epoch:  10  Validation Accuracy:  0.6010030649205907\n",
            "Epoch 11\n",
            "Epoch:  11  Train Accuracy:  0.9989201992406562\n",
            "Epoch:  11  Validation Accuracy:  0.6001671774867651\n",
            "Epoch 12\n",
            "Epoch:  12  Train Accuracy:  0.9989550315232157\n",
            "Epoch:  12  Validation Accuracy:  0.5998885483421565\n",
            "Epoch 13\n",
            "Epoch:  13  Train Accuracy:  0.9989898638057751\n",
            "Epoch:  13  Validation Accuracy:  0.5993312900529395\n",
            "Epoch 14\n",
            "Epoch:  14  Train Accuracy:  0.9989201992406562\n",
            "Epoch:  14  Validation Accuracy:  0.599052660908331\n"
          ]
        },
        {
          "output_type": "display_data",
          "data": {
            "text/plain": [
              "<Figure size 432x288 with 1 Axes>"
            ],
            "image/png": "[encoded data removed]"
          },
          "metadata": {
            "needs_background": "light"
          }
        },
        {
          "output_type": "display_data",
          "data": {
            "text/plain": [
              "<Figure size 432x288 with 1 Axes>"
            ],
            "image/png": "[encoded data removed]"
          },
          "metadata": {
            "needs_background": "light"
          }
        },
        {
          "output_type": "stream",
          "name": "stdout",
          "text": [
            "Final Training Accuracy: 0.9989201992406562\n",
            "Final Validation Accuracy: 0.599052660908331\n"
          ]
        }
      ]
    },
    {
      "cell_type": "code",
      "source": [
        "train2(model1, tData, vData, batch_size = 500, lr= 0.001, num_epochs=10)"
      ],
      "metadata": {
        "colab": {
          "base_uri": "https://localhost:8080/",
          "height": 1000
        },
        "id": "j14HJ_-Ei8Uc",
        "outputId": "332524fe-7b38-49d2-8673-34e3a8423aad"
      },
      "execution_count": null,
      "outputs": [
        {
          "output_type": "stream",
          "name": "stdout",
          "text": [
            "Epoch 0\n",
            "Epoch:  0  Train Accuracy:  0.9989898638057751\n",
            "Epoch:  0  Validation Accuracy:  0.6007244357759821\n",
            "Epoch 1\n",
            "Epoch:  1  Train Accuracy:  0.9990595283708942\n",
            "Epoch:  1  Validation Accuracy:  0.6007244357759821\n",
            "Epoch 2\n",
            "Epoch:  2  Train Accuracy:  0.9990246960883347\n",
            "Epoch:  2  Validation Accuracy:  0.6007244357759821\n",
            "Epoch 3\n",
            "Epoch:  3  Train Accuracy:  0.9990246960883347\n",
            "Epoch:  3  Validation Accuracy:  0.6007244357759821\n",
            "Epoch 4\n",
            "Epoch:  4  Train Accuracy:  0.9991291929360131\n",
            "Epoch:  4  Validation Accuracy:  0.599609919197548\n",
            "Epoch 5\n",
            "Epoch:  5  Train Accuracy:  0.9989898638057751\n",
            "Epoch:  5  Validation Accuracy:  0.6015603232098078\n",
            "Epoch 6\n",
            "Epoch:  6  Train Accuracy:  0.9990246960883347\n",
            "Epoch:  6  Validation Accuracy:  0.6001671774867651\n",
            "Epoch 7\n",
            "Epoch:  7  Train Accuracy:  0.9989201992406562\n",
            "Epoch:  7  Validation Accuracy:  0.5993312900529395\n",
            "Epoch 8\n",
            "Epoch:  8  Train Accuracy:  0.9988853669580967\n",
            "Epoch:  8  Validation Accuracy:  0.5982167734745054\n",
            "Epoch 9\n",
            "Epoch:  9  Train Accuracy:  0.9988853669580967\n",
            "Epoch:  9  Validation Accuracy:  0.6012816940651993\n"
          ]
        },
        {
          "output_type": "display_data",
          "data": {
            "text/plain": [
              "<Figure size 432x288 with 1 Axes>"
            ],
            "image/png": "[encoded data removed]"
          },
          "metadata": {
            "needs_background": "light"
          }
        },
        {
          "output_type": "display_data",
          "data": {
            "text/plain": [
              "<Figure size 432x288 with 1 Axes>"
            ],
            "image/png": "[encoded data removed]"
          },
          "metadata": {
            "needs_background": "light"
          }
        },
        {
          "output_type": "stream",
          "name": "stdout",
          "text": [
            "Final Training Accuracy: 0.9988853669580967\n",
            "Final Validation Accuracy: 0.6012816940651993\n"
          ]
        }
      ]
    }
  ]
}