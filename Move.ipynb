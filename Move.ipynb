{
  "nbformat": 4,
  "nbformat_minor": 0,
  "metadata": {
    "colab": {
      "name": "Move.ipynb",
      "provenance": [],
      "mount_file_id": "1Xy-3Zp47D1fe6VAp388Kp1Oic-Gd_ycy",
      "authorship_tag": "ABX9TyMHuYvMv8wlSokxEd701SE8",
      "include_colab_link": true
    },
    "kernelspec": {
      "name": "python3",
      "display_name": "Python 3"
    },
    "language_info": {
      "name": "python"
    }
  },
  "cells": [
    {
      "cell_type": "markdown",
      "metadata": {
        "id": "view-in-github",
        "colab_type": "text"
      },
      "source": [
        "<a href=\"https://colab.research.google.com/github/nxf-emma/APS360-Artificial-Intelligence-Fundamentals/blob/main/Move.ipynb\" target=\"_parent\"><img src=\"https://colab.research.google.com/assets/colab-badge.svg\" alt=\"Open In Colab\"/></a>"
      ]
    },
    {
      "cell_type": "code",
      "execution_count": 7,
      "metadata": {
        "id": "KBDLsqITNBi3"
      },
      "outputs": [],
      "source": [
        "import os\n",
        "from os import path\n",
        "import shutil\n",
        "\n",
        "\n",
        "\n"
      ]
    },
    {
      "cell_type": "code",
      "source": [
        "\n",
        "src = '/content/drive/MyDrive/APS360 Team/aps360_dataset/FER-2013 before transform tensor/train/happy/'\n",
        "dst = '/content/drive/MyDrive/APS360 Team/aps360_dataset/FER-2013 before transform tensor/train extras/happy/'\n",
        "\n",
        "files = os.listdir(src)\n",
        "i = 0\n",
        "for g in files:\n",
        "  \n",
        "  if(i == 100):\n",
        "    print(\"done\")\n",
        "    break\n",
        "\n",
        "  if(os.path.exists(src+g)):\n",
        "    shutil.move(src+g, dst+g)\n",
        "    i = i +1\n",
        "\n",
        "  "
      ],
      "metadata": {
        "colab": {
          "base_uri": "https://localhost:8080/"
        },
        "id": "ZZ7uXLCIPJUJ",
        "outputId": "94c92c58-bb9c-44c3-e7fa-26bef7142b81"
      },
      "execution_count": 17,
      "outputs": [
        {
          "output_type": "stream",
          "name": "stdout",
          "text": [
            "done\n"
          ]
        }
      ]
    },
    {
      "cell_type": "code",
      "source": [
        "dirlen = os.listdir(src)\n",
        "print(len(dirlen))"
      ],
      "metadata": {
        "colab": {
          "base_uri": "https://localhost:8080/"
        },
        "id": "PepyvEqNQs0H",
        "outputId": "0767deb6-934c-4cb4-c91d-5c2cb7f9d17a"
      },
      "execution_count": 18,
      "outputs": [
        {
          "output_type": "stream",
          "name": "stdout",
          "text": [
            "5308\n"
          ]
        }
      ]
    }
  ]
}