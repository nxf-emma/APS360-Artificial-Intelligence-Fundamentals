{
  "nbformat": 4,
  "nbformat_minor": 0,
  "metadata": {
    "colab": {
      "name": "Res.ipynb",
      "provenance": [],
      "authorship_tag": "ABX9TyOM4Ja4ohZ5rY8iz9jyI8h2",
      "include_colab_link": true
    },
    "kernelspec": {
      "name": "python3",
      "display_name": "Python 3"
    },
    "language_info": {
      "name": "python"
    },
    "accelerator": "GPU",
    "widgets": {
      "application/vnd.jupyter.widget-state+json": {
        "65b962a64ea64ad2bdf22516dd8d8ddd": {
          "model_module": "@jupyter-widgets/controls",
          "model_name": "HBoxModel",
          "model_module_version": "1.5.0",
          "state": {
            "_dom_classes": [],
            "_model_module": "@jupyter-widgets/controls",
            "_model_module_version": "1.5.0",
            "_model_name": "HBoxModel",
            "_view_count": null,
            "_view_module": "@jupyter-widgets/controls",
            "_view_module_version": "1.5.0",
            "_view_name": "HBoxView",
            "box_style": "",
            "children": [
              "IPY_MODEL_ae3f07194fcb44788d38e69397411e7c",
              "IPY_MODEL_998186c4464543acbba851d9b0718a0b",
              "IPY_MODEL_9c9f61a0f25e4a3193ff26412cf86b49"
            ],
            "layout": "IPY_MODEL_1f89a1556a3f4ca0990b4b5ec808df5c"
          }
        },
        "ae3f07194fcb44788d38e69397411e7c": {
          "model_module": "@jupyter-widgets/controls",
          "model_name": "HTMLModel",
          "model_module_version": "1.5.0",
          "state": {
            "_dom_classes": [],
            "_model_module": "@jupyter-widgets/controls",
            "_model_module_version": "1.5.0",
            "_model_name": "HTMLModel",
            "_view_count": null,
            "_view_module": "@jupyter-widgets/controls",
            "_view_module_version": "1.5.0",
            "_view_name": "HTMLView",
            "description": "",
            "description_tooltip": null,
            "layout": "IPY_MODEL_be102d8bfc8640c19d7c87cde1ab9f41",
            "placeholder": "​",
            "style": "IPY_MODEL_e1add087d56349d3abd9af36332ff422",
            "value": "100%"
          }
        },
        "998186c4464543acbba851d9b0718a0b": {
          "model_module": "@jupyter-widgets/controls",
          "model_name": "FloatProgressModel",
          "model_module_version": "1.5.0",
          "state": {
            "_dom_classes": [],
            "_model_module": "@jupyter-widgets/controls",
            "_model_module_version": "1.5.0",
            "_model_name": "FloatProgressModel",
            "_view_count": null,
            "_view_module": "@jupyter-widgets/controls",
            "_view_module_version": "1.5.0",
            "_view_name": "ProgressView",
            "bar_style": "success",
            "description": "",
            "description_tooltip": null,
            "layout": "IPY_MODEL_91f8150a34f147ebbf08f020e710b375",
            "max": 46830571,
            "min": 0,
            "orientation": "horizontal",
            "style": "IPY_MODEL_4fec7a8171934ea28c43afd3e5e8a757",
            "value": 46830571
          }
        },
        "9c9f61a0f25e4a3193ff26412cf86b49": {
          "model_module": "@jupyter-widgets/controls",
          "model_name": "HTMLModel",
          "model_module_version": "1.5.0",
          "state": {
            "_dom_classes": [],
            "_model_module": "@jupyter-widgets/controls",
            "_model_module_version": "1.5.0",
            "_model_name": "HTMLModel",
            "_view_count": null,
            "_view_module": "@jupyter-widgets/controls",
            "_view_module_version": "1.5.0",
            "_view_name": "HTMLView",
            "description": "",
            "description_tooltip": null,
            "layout": "IPY_MODEL_64802d41e4d6474fba1c21a016f48427",
            "placeholder": "​",
            "style": "IPY_MODEL_ea71d14b55554ad7a2e0bcbe048f4aeb",
            "value": " 44.7M/44.7M [00:01&lt;00:00, 33.8MB/s]"
          }
        },
        "1f89a1556a3f4ca0990b4b5ec808df5c": {
          "model_module": "@jupyter-widgets/base",
          "model_name": "LayoutModel",
          "model_module_version": "1.2.0",
          "state": {
            "_model_module": "@jupyter-widgets/base",
            "_model_module_version": "1.2.0",
            "_model_name": "LayoutModel",
            "_view_count": null,
            "_view_module": "@jupyter-widgets/base",
            "_view_module_version": "1.2.0",
            "_view_name": "LayoutView",
            "align_content": null,
            "align_items": null,
            "align_self": null,
            "border": null,
            "bottom": null,
            "display": null,
            "flex": null,
            "flex_flow": null,
            "grid_area": null,
            "grid_auto_columns": null,
            "grid_auto_flow": null,
            "grid_auto_rows": null,
            "grid_column": null,
            "grid_gap": null,
            "grid_row": null,
            "grid_template_areas": null,
            "grid_template_columns": null,
            "grid_template_rows": null,
            "height": null,
            "justify_content": null,
            "justify_items": null,
            "left": null,
            "margin": null,
            "max_height": null,
            "max_width": null,
            "min_height": null,
            "min_width": null,
            "object_fit": null,
            "object_position": null,
            "order": null,
            "overflow": null,
            "overflow_x": null,
            "overflow_y": null,
            "padding": null,
            "right": null,
            "top": null,
            "visibility": null,
            "width": null
          }
        },
        "be102d8bfc8640c19d7c87cde1ab9f41": {
          "model_module": "@jupyter-widgets/base",
          "model_name": "LayoutModel",
          "model_module_version": "1.2.0",
          "state": {
            "_model_module": "@jupyter-widgets/base",
            "_model_module_version": "1.2.0",
            "_model_name": "LayoutModel",
            "_view_count": null,
            "_view_module": "@jupyter-widgets/base",
            "_view_module_version": "1.2.0",
            "_view_name": "LayoutView",
            "align_content": null,
            "align_items": null,
            "align_self": null,
            "border": null,
            "bottom": null,
            "display": null,
            "flex": null,
            "flex_flow": null,
            "grid_area": null,
            "grid_auto_columns": null,
            "grid_auto_flow": null,
            "grid_auto_rows": null,
            "grid_column": null,
            "grid_gap": null,
            "grid_row": null,
            "grid_template_areas": null,
            "grid_template_columns": null,
            "grid_template_rows": null,
            "height": null,
            "justify_content": null,
            "justify_items": null,
            "left": null,
            "margin": null,
            "max_height": null,
            "max_width": null,
            "min_height": null,
            "min_width": null,
            "object_fit": null,
            "object_position": null,
            "order": null,
            "overflow": null,
            "overflow_x": null,
            "overflow_y": null,
            "padding": null,
            "right": null,
            "top": null,
            "visibility": null,
            "width": null
          }
        },
        "e1add087d56349d3abd9af36332ff422": {
          "model_module": "@jupyter-widgets/controls",
          "model_name": "DescriptionStyleModel",
          "model_module_version": "1.5.0",
          "state": {
            "_model_module": "@jupyter-widgets/controls",
            "_model_module_version": "1.5.0",
            "_model_name": "DescriptionStyleModel",
            "_view_count": null,
            "_view_module": "@jupyter-widgets/base",
            "_view_module_version": "1.2.0",
            "_view_name": "StyleView",
            "description_width": ""
          }
        },
        "91f8150a34f147ebbf08f020e710b375": {
          "model_module": "@jupyter-widgets/base",
          "model_name": "LayoutModel",
          "model_module_version": "1.2.0",
          "state": {
            "_model_module": "@jupyter-widgets/base",
            "_model_module_version": "1.2.0",
            "_model_name": "LayoutModel",
            "_view_count": null,
            "_view_module": "@jupyter-widgets/base",
            "_view_module_version": "1.2.0",
            "_view_name": "LayoutView",
            "align_content": null,
            "align_items": null,
            "align_self": null,
            "border": null,
            "bottom": null,
            "display": null,
            "flex": null,
            "flex_flow": null,
            "grid_area": null,
            "grid_auto_columns": null,
            "grid_auto_flow": null,
            "grid_auto_rows": null,
            "grid_column": null,
            "grid_gap": null,
            "grid_row": null,
            "grid_template_areas": null,
            "grid_template_columns": null,
            "grid_template_rows": null,
            "height": null,
            "justify_content": null,
            "justify_items": null,
            "left": null,
            "margin": null,
            "max_height": null,
            "max_width": null,
            "min_height": null,
            "min_width": null,
            "object_fit": null,
            "object_position": null,
            "order": null,
            "overflow": null,
            "overflow_x": null,
            "overflow_y": null,
            "padding": null,
            "right": null,
            "top": null,
            "visibility": null,
            "width": null
          }
        },
        "4fec7a8171934ea28c43afd3e5e8a757": {
          "model_module": "@jupyter-widgets/controls",
          "model_name": "ProgressStyleModel",
          "model_module_version": "1.5.0",
          "state": {
            "_model_module": "@jupyter-widgets/controls",
            "_model_module_version": "1.5.0",
            "_model_name": "ProgressStyleModel",
            "_view_count": null,
            "_view_module": "@jupyter-widgets/base",
            "_view_module_version": "1.2.0",
            "_view_name": "StyleView",
            "bar_color": null,
            "description_width": ""
          }
        },
        "64802d41e4d6474fba1c21a016f48427": {
          "model_module": "@jupyter-widgets/base",
          "model_name": "LayoutModel",
          "model_module_version": "1.2.0",
          "state": {
            "_model_module": "@jupyter-widgets/base",
            "_model_module_version": "1.2.0",
            "_model_name": "LayoutModel",
            "_view_count": null,
            "_view_module": "@jupyter-widgets/base",
            "_view_module_version": "1.2.0",
            "_view_name": "LayoutView",
            "align_content": null,
            "align_items": null,
            "align_self": null,
            "border": null,
            "bottom": null,
            "display": null,
            "flex": null,
            "flex_flow": null,
            "grid_area": null,
            "grid_auto_columns": null,
            "grid_auto_flow": null,
            "grid_auto_rows": null,
            "grid_column": null,
            "grid_gap": null,
            "grid_row": null,
            "grid_template_areas": null,
            "grid_template_columns": null,
            "grid_template_rows": null,
            "height": null,
            "justify_content": null,
            "justify_items": null,
            "left": null,
            "margin": null,
            "max_height": null,
            "max_width": null,
            "min_height": null,
            "min_width": null,
            "object_fit": null,
            "object_position": null,
            "order": null,
            "overflow": null,
            "overflow_x": null,
            "overflow_y": null,
            "padding": null,
            "right": null,
            "top": null,
            "visibility": null,
            "width": null
          }
        },
        "ea71d14b55554ad7a2e0bcbe048f4aeb": {
          "model_module": "@jupyter-widgets/controls",
          "model_name": "DescriptionStyleModel",
          "model_module_version": "1.5.0",
          "state": {
            "_model_module": "@jupyter-widgets/controls",
            "_model_module_version": "1.5.0",
            "_model_name": "DescriptionStyleModel",
            "_view_count": null,
            "_view_module": "@jupyter-widgets/base",
            "_view_module_version": "1.2.0",
            "_view_name": "StyleView",
            "description_width": ""
          }
        }
      }
    }
  },
  "cells": [
    {
      "cell_type": "markdown",
      "metadata": {
        "id": "view-in-github",
        "colab_type": "text"
      },
      "source": [
        "<a href=\"https://colab.research.google.com/github/nxf-emma/APS360-Artificial-Intelligence-Fundamentals/blob/main/Res.ipynb\" target=\"_parent\"><img src=\"https://colab.research.google.com/assets/colab-badge.svg\" alt=\"Open In Colab\"/></a>"
      ]
    },
    {
      "cell_type": "code",
      "execution_count": null,
      "metadata": {
        "colab": {
          "base_uri": "https://localhost:8080/"
        },
        "id": "Hyz7fnZH_dfL",
        "outputId": "0db7279d-aef8-4a80-8d27-5317a7551d30"
      },
      "outputs": [
        {
          "output_type": "stream",
          "name": "stdout",
          "text": [
            "Mounted at /content/drive\n"
          ]
        }
      ],
      "source": [
        "#mount googledrive\n",
        "from google.colab import drive\n",
        "drive.mount('/content/drive')"
      ]
    },
    {
      "cell_type": "code",
      "source": [
        "import torch\n",
        "import numpy as np\n",
        "import os\n",
        "import torch.nn as nn\n",
        "import torch.nn.functional as F\n",
        "import matplotlib.pyplot as plt\n",
        "import torch.optim as optim\n",
        "import torchvision\n",
        "from torchvision import datasets, models, transforms\n",
        "from torch.utils.data.sampler import SubsetRandomSampler"
      ],
      "metadata": {
        "id": "1q3LiWak_gtA"
      },
      "execution_count": null,
      "outputs": []
    },
    {
      "cell_type": "code",
      "source": [
        "import ssl\n",
        "ssl._create_default_https_context = ssl._create_unverified_context"
      ],
      "metadata": {
        "id": "rCazKxdvAArW"
      },
      "execution_count": null,
      "outputs": []
    },
    {
      "cell_type": "code",
      "source": [
        "resnet18new = torchvision.models.resnet.resnet18(pretrained=True)"
      ],
      "metadata": {
        "colab": {
          "base_uri": "https://localhost:8080/",
          "height": 66,
          "referenced_widgets": [
            "65b962a64ea64ad2bdf22516dd8d8ddd",
            "ae3f07194fcb44788d38e69397411e7c",
            "998186c4464543acbba851d9b0718a0b",
            "9c9f61a0f25e4a3193ff26412cf86b49",
            "1f89a1556a3f4ca0990b4b5ec808df5c",
            "be102d8bfc8640c19d7c87cde1ab9f41",
            "e1add087d56349d3abd9af36332ff422",
            "91f8150a34f147ebbf08f020e710b375",
            "4fec7a8171934ea28c43afd3e5e8a757",
            "64802d41e4d6474fba1c21a016f48427",
            "ea71d14b55554ad7a2e0bcbe048f4aeb"
          ]
        },
        "id": "zp6DZLDI_jq_",
        "outputId": "0c832baf-ecf5-422b-cfa4-21e1529ec214"
      },
      "execution_count": null,
      "outputs": [
        {
          "output_type": "stream",
          "name": "stderr",
          "text": [
            "Downloading: \"https://download.pytorch.org/models/resnet18-f37072fd.pth\" to /root/.cache/torch/hub/checkpoints/resnet18-f37072fd.pth\n"
          ]
        },
        {
          "output_type": "display_data",
          "data": {
            "text/plain": [
              "  0%|          | 0.00/44.7M [00:00<?, ?B/s]"
            ],
            "application/vnd.jupyter.widget-view+json": {
              "version_major": 2,
              "version_minor": 0,
              "model_id": "65b962a64ea64ad2bdf22516dd8d8ddd"
            }
          },
          "metadata": {}
        }
      ]
    },
    {
      "cell_type": "code",
      "source": [
        "def get_accuracy(model, dataloader):\n",
        "    \n",
        "\n",
        "    correct = 0\n",
        "    total = 0\n",
        "    for imgs, labels in dataloader:\n",
        "        \n",
        "        if use_cuda and torch.cuda.is_available():\n",
        "            imgs = imgs.cuda()\n",
        "            labels = labels.cuda()\n",
        "\n",
        "        output = model(imgs)\n",
        "        \n",
        "        #select index with maximum prediction score\n",
        "        pred = output.max(1, keepdim=True)[1]\n",
        "        correct += pred.eq(labels.view_as(pred)).sum().item()\n",
        "        total += imgs.shape[0]\n",
        "    return correct / total"
      ],
      "metadata": {
        "id": "WiN62XsNANi-"
      },
      "execution_count": null,
      "outputs": []
    },
    {
      "cell_type": "code",
      "source": [
        "def train2(model, train_data, val_data, batch_size=3000, num_epochs=5, lr = 0.01):\n",
        "    \n",
        "    num_workers = 1\n",
        "    train_loader = torch.utils.data.DataLoader(train_data, batch_size=batch_size, \n",
        "                                           num_workers=num_workers, shuffle=True)\n",
        "    val_loader = torch.utils.data.DataLoader(val_data, batch_size=batch_size, \n",
        "                                          num_workers=num_workers, shuffle=True)\n",
        "    criterion = nn.CrossEntropyLoss()\n",
        "    optimizer = optim.SGD(model.parameters(), lr=lr, momentum=0.9,weight_decay=5e-4)\n",
        "    # optimizer = optim.Adam(model.parameters(), lr=lr)\n",
        "    iters, losses, train_acc, val_acc = [], [], [], []\n",
        "\n",
        "    # training\n",
        "    n = 0 # the number of iterations\n",
        "    for epoch in range(num_epochs):\n",
        "        print(\"Epoch\", epoch)\n",
        "        n = 0\n",
        "        for imgs, labels in iter(train_loader):\n",
        "            # print(\"iteration \", n)\n",
        "\n",
        "            if use_cuda and torch.cuda.is_available():\n",
        "                imgs = imgs.cuda()\n",
        "                labels = labels.cuda()\n",
        "\n",
        "            out = model(imgs)             # forward pass\n",
        "\n",
        "            loss = criterion(out, labels) # compute the total loss\n",
        "            loss.backward()               # backward pass (compute parameter updates)\n",
        "            optimizer.step()              # make the updates for each parameter\n",
        "            optimizer.zero_grad()         # a clean up step for PyTorch\n",
        "            n += 1\n",
        "\n",
        "        # save the current training information\n",
        "        iters.append(epoch)\n",
        "        losses.append(float(loss)/batch_size)             # compute *average* loss\n",
        "        # calculate accuracy at each epoch instead of iteration\n",
        "        # def get_accuracy(model, data):\n",
        "        train_acc.append(get_accuracy(model, train_loader)) # compute training accuracy \n",
        "        # compute validation acc every epoch\n",
        "        val_acc.append(get_accuracy(model, val_loader))  # compute validation accuracy\n",
        "        print(\"Epoch: \", epoch, \" Train Accuracy: \", train_acc[epoch])\n",
        "        print(\"Epoch: \", epoch, \" Validation Accuracy: \", val_acc[epoch])\n",
        "\n",
        "            \n",
        "\n",
        "    # plotting\n",
        "    plt.title(\"Training Curve\")\n",
        "    plt.plot(iters, losses, label=\"Train\")\n",
        "    plt.xlabel(\"Iterations\")\n",
        "    plt.ylabel(\"Loss\")\n",
        "    plt.show()\n",
        "\n",
        "    plt.title(\"Training Curve\")\n",
        "    plt.plot(iters, train_acc, label=\"Train\")\n",
        "    plt.plot(iters, val_acc, label=\"Validation\")\n",
        "    plt.xlabel(\"Iterations\")\n",
        "    plt.ylabel(\"Training Accuracy\")\n",
        "    plt.legend(loc='best')\n",
        "    plt.show()\n",
        "\n",
        "    print(\"Final Training Accuracy: {}\".format(train_acc[-1]))\n",
        "    print(\"Final Validation Accuracy: {}\".format(val_acc[-1]))"
      ],
      "metadata": {
        "id": "MiJq401aAQzF"
      },
      "execution_count": null,
      "outputs": []
    },
    {
      "cell_type": "code",
      "source": [
        "parent_path = '/content/drive/MyDrive/APS360 Team/aps360_dataset/small-dataset/'\n",
        "\n",
        "data_transform = transforms.Compose(\n",
        "    [\n",
        "        # transforms.Resize((224,224)), \n",
        "        #convert image to grayscale\n",
        "        # transforms.Grayscale(num_output_channels=3),\n",
        "        #randomly adding brightness \n",
        "        # transforms.ColorJitter(brightness=(1,1.2)),\n",
        "        #apply ramdom rotation from -30 to 30 degrees\n",
        "        # transforms.RandomRotation(30),\n",
        "        #apply random horizontal flip with probability of 50% \n",
        "        transforms.RandomHorizontalFlip(p=0.5),\n",
        "        transforms.ToTensor(),\n",
        "        #normalize the data with 0.5 mean and variance.\n",
        "        transforms.Normalize((0.5073955,), (0.25,), inplace=True)\n",
        "       \n",
        "    ])\n",
        "training_set = torchvision.datasets.ImageFolder(parent_path+'train',data_transform)\n",
        "valid_set = torchvision.datasets.ImageFolder(parent_path+'test',data_transform)"
      ],
      "metadata": {
        "id": "vDk4fvJdAR48"
      },
      "execution_count": null,
      "outputs": []
    },
    {
      "cell_type": "code",
      "source": [
        "re = torchvision.models.resnet.resnet18()"
      ],
      "metadata": {
        "id": "4R2CGzjeD4le"
      },
      "execution_count": null,
      "outputs": []
    },
    {
      "cell_type": "code",
      "source": [
        "use_cuda = True\n",
        "if use_cuda and torch.cuda.is_available():\n",
        "  re.cuda()\n",
        "  print('CUDA is available!  Training on GPU ...')\n",
        "else:\n",
        "  print('CUDA is not available.  Training on CPU ...')\n",
        "\n",
        "train2(re, training_set, valid_set,batch_size= 20, lr=0.001, num_epochs=35)"
      ],
      "metadata": {
        "colab": {
          "base_uri": "https://localhost:8080/",
          "height": 1000
        },
        "id": "Jy32QbeIAyvc",
        "outputId": "f6b1e728-2700-49f5-8d04-739003d98c11"
      },
      "execution_count": null,
      "outputs": [
        {
          "output_type": "stream",
          "name": "stdout",
          "text": [
            "CUDA is available!  Training on GPU ...\n",
            "Epoch 0\n",
            "Epoch:  0  Train Accuracy:  0.27\n",
            "Epoch:  0  Validation Accuracy:  0.22\n",
            "Epoch 1\n",
            "Epoch:  1  Train Accuracy:  0.304\n",
            "Epoch:  1  Validation Accuracy:  0.21\n",
            "Epoch 2\n",
            "Epoch:  2  Train Accuracy:  0.396\n",
            "Epoch:  2  Validation Accuracy:  0.25\n",
            "Epoch 3\n",
            "Epoch:  3  Train Accuracy:  0.438\n",
            "Epoch:  3  Validation Accuracy:  0.232\n",
            "Epoch 4\n",
            "Epoch:  4  Train Accuracy:  0.622\n",
            "Epoch:  4  Validation Accuracy:  0.226\n",
            "Epoch 5\n",
            "Epoch:  5  Train Accuracy:  0.592\n",
            "Epoch:  5  Validation Accuracy:  0.256\n",
            "Epoch 6\n",
            "Epoch:  6  Train Accuracy:  0.76\n",
            "Epoch:  6  Validation Accuracy:  0.236\n",
            "Epoch 7\n",
            "Epoch:  7  Train Accuracy:  0.85\n",
            "Epoch:  7  Validation Accuracy:  0.27\n",
            "Epoch 8\n",
            "Epoch:  8  Train Accuracy:  0.858\n",
            "Epoch:  8  Validation Accuracy:  0.254\n",
            "Epoch 9\n",
            "Epoch:  9  Train Accuracy:  0.874\n",
            "Epoch:  9  Validation Accuracy:  0.234\n",
            "Epoch 10\n",
            "Epoch:  10  Train Accuracy:  0.94\n",
            "Epoch:  10  Validation Accuracy:  0.236\n",
            "Epoch 11\n",
            "Epoch:  11  Train Accuracy:  0.916\n",
            "Epoch:  11  Validation Accuracy:  0.26\n",
            "Epoch 12\n",
            "Epoch:  12  Train Accuracy:  0.964\n",
            "Epoch:  12  Validation Accuracy:  0.258\n",
            "Epoch 13\n",
            "Epoch:  13  Train Accuracy:  0.976\n",
            "Epoch:  13  Validation Accuracy:  0.264\n",
            "Epoch 14\n",
            "Epoch:  14  Train Accuracy:  0.986\n",
            "Epoch:  14  Validation Accuracy:  0.268\n",
            "Epoch 15\n",
            "Epoch:  15  Train Accuracy:  0.992\n",
            "Epoch:  15  Validation Accuracy:  0.282\n",
            "Epoch 16\n",
            "Epoch:  16  Train Accuracy:  0.964\n",
            "Epoch:  16  Validation Accuracy:  0.272\n",
            "Epoch 17\n",
            "Epoch:  17  Train Accuracy:  0.978\n",
            "Epoch:  17  Validation Accuracy:  0.296\n",
            "Epoch 18\n",
            "Epoch:  18  Train Accuracy:  0.998\n",
            "Epoch:  18  Validation Accuracy:  0.29\n",
            "Epoch 19\n",
            "Epoch:  19  Train Accuracy:  0.996\n",
            "Epoch:  19  Validation Accuracy:  0.29\n",
            "Epoch 20\n",
            "Epoch:  20  Train Accuracy:  0.998\n",
            "Epoch:  20  Validation Accuracy:  0.264\n",
            "Epoch 21\n",
            "Epoch:  21  Train Accuracy:  0.998\n",
            "Epoch:  21  Validation Accuracy:  0.272\n",
            "Epoch 22\n",
            "Epoch:  22  Train Accuracy:  0.994\n",
            "Epoch:  22  Validation Accuracy:  0.268\n",
            "Epoch 23\n",
            "Epoch:  23  Train Accuracy:  1.0\n",
            "Epoch:  23  Validation Accuracy:  0.284\n",
            "Epoch 24\n",
            "Epoch:  24  Train Accuracy:  1.0\n",
            "Epoch:  24  Validation Accuracy:  0.286\n",
            "Epoch 25\n",
            "Epoch:  25  Train Accuracy:  0.996\n",
            "Epoch:  25  Validation Accuracy:  0.292\n",
            "Epoch 26\n",
            "Epoch:  26  Train Accuracy:  1.0\n",
            "Epoch:  26  Validation Accuracy:  0.262\n",
            "Epoch 27\n",
            "Epoch:  27  Train Accuracy:  0.998\n",
            "Epoch:  27  Validation Accuracy:  0.284\n",
            "Epoch 28\n",
            "Epoch:  28  Train Accuracy:  0.998\n",
            "Epoch:  28  Validation Accuracy:  0.29\n",
            "Epoch 29\n",
            "Epoch:  29  Train Accuracy:  0.992\n",
            "Epoch:  29  Validation Accuracy:  0.276\n",
            "Epoch 30\n",
            "Epoch:  30  Train Accuracy:  1.0\n",
            "Epoch:  30  Validation Accuracy:  0.288\n",
            "Epoch 31\n",
            "Epoch:  31  Train Accuracy:  0.998\n",
            "Epoch:  31  Validation Accuracy:  0.252\n",
            "Epoch 32\n",
            "Epoch:  32  Train Accuracy:  0.998\n",
            "Epoch:  32  Validation Accuracy:  0.29\n",
            "Epoch 33\n",
            "Epoch:  33  Train Accuracy:  0.996\n",
            "Epoch:  33  Validation Accuracy:  0.29\n",
            "Epoch 34\n",
            "Epoch:  34  Train Accuracy:  0.994\n",
            "Epoch:  34  Validation Accuracy:  0.294\n"
          ]
        },
        {
          "output_type": "display_data",
          "data": {
            "text/plain": [
              "<Figure size 432x288 with 1 Axes>"
            ],
            "image/png": "[encoded data removed]"
          },
          "metadata": {
            "needs_background": "light"
          }
        },
        {
          "output_type": "display_data",
          "data": {
            "text/plain": [
              "<Figure size 432x288 with 1 Axes>"
            ],
            "image/png": "[encoded data removed]"
          },
          "metadata": {
            "needs_background": "light"
          }
        },
        {
          "output_type": "stream",
          "name": "stdout",
          "text": [
            "Final Training Accuracy: 0.994\n",
            "Final Validation Accuracy: 0.294\n"
          ]
        }
      ]
    }
  ]
}