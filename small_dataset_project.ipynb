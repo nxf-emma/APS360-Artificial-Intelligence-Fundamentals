{
  "nbformat": 4,
  "nbformat_minor": 0,
  "metadata": {
    "colab": {
      "name": "small_dataset project.ipynb",
      "provenance": [],
      "collapsed_sections": [],
      "include_colab_link": true
    },
    "kernelspec": {
      "name": "python3",
      "display_name": "Python 3"
    },
    "language_info": {
      "name": "python"
    },
    "accelerator": "GPU"
  },
  "cells": [
    {
      "cell_type": "markdown",
      "metadata": {
        "id": "view-in-github",
        "colab_type": "text"
      },
      "source": [
        "<a href=\"https://colab.research.google.com/github/nxf-emma/APS360-Artificial-Intelligence-Fundamentals/blob/main/small_dataset_project.ipynb\" target=\"_parent\"><img src=\"https://colab.research.google.com/assets/colab-badge.svg\" alt=\"Open In Colab\"/></a>"
      ]
    },
    {
      "cell_type": "code",
      "execution_count": 1,
      "metadata": {
        "id": "ihbRrhOPrlrl"
      },
      "outputs": [],
      "source": [
        "import torch\n",
        "import numpy as np\n",
        "import os\n",
        "import torch.nn as nn\n",
        "import torch.nn.functional as F\n",
        "import matplotlib.pyplot as plt\n",
        "import torch.optim as optim\n",
        "import torchvision\n",
        "from torchvision import datasets, models, transforms\n",
        "from torch.utils.data.sampler import SubsetRandomSampler\n",
        "from torch.utils.data import TensorDataset as Dataset"
      ]
    },
    {
      "cell_type": "code",
      "source": [
        "from google.colab import drive\n",
        "drive.mount('/content/drive')"
      ],
      "metadata": {
        "colab": {
          "base_uri": "https://localhost:8080/"
        },
        "id": "KjdXATOhfKX8",
        "outputId": "7b7ccfae-137b-4bff-a448-e5bf86a4bbe4"
      },
      "execution_count": 2,
      "outputs": [
        {
          "output_type": "stream",
          "name": "stdout",
          "text": [
            "Drive already mounted at /content/drive; to attempt to forcibly remount, call drive.mount(\"/content/drive\", force_remount=True).\n"
          ]
        }
      ]
    },
    {
      "cell_type": "code",
      "source": [
        "\n",
        "# Composes several transforms together.\n",
        "\n",
        "data_transform = transforms.Compose(\n",
        "    [\n",
        "        \n",
        "        #convert image to grayscale\n",
        "        transforms.Grayscale(num_output_channels=3),\n",
        "        #randomly adding brightness \n",
        "        transforms.ColorJitter(brightness=(1,1.2)),\n",
        "        #apply ramdom rotation from -30 to 30 degrees\n",
        "        transforms.RandomRotation(30),\n",
        "        #apply random horizontal flip with probability of 50% \n",
        "        transforms.RandomHorizontalFlip(p=0.5),\n",
        "        transforms.ToTensor(),\n",
        "        #normalize the data with 0.5 mean and variance.\n",
        "        transforms.Normalize((0.5073955,), (0.25,), inplace=True)\n",
        "       \n",
        "    ])\n",
        "\n",
        "#data_transform = transforms.ToTensor()\n",
        "\n",
        "\n",
        "parent_path = '/content/drive/MyDrive/APS360 Team/aps360_dataset/small-dataset/'\n",
        "\n",
        "training_set = torchvision.datasets.ImageFolder(parent_path+'train',data_transform)\n",
        "valid_set = torchvision.datasets.ImageFolder(parent_path+'valid',data_transform)\n",
        "test_set = torchvision.datasets.ImageFolder(parent_path+'test',data_transform)\n",
        "\n",
        "\n",
        "'''\n",
        "batch_size = 400\n",
        "# two sub processes used for data loading\n",
        "num_workers = 1\n",
        "\n",
        "#get data loader\n",
        "train_loader = torch.utils.data.DataLoader(training_set,batch_size = batch_size ,num_workers = num_workers,shuffle = True)\n",
        "valid_loader = torch.utils.data.DataLoader(valid_set,batch_size = batch_size ,num_workers = num_workers,shuffle = True)\n",
        "test_loader = torch.utils.data.DataLoader(test_set,batch_size = batch_size,num_workers = num_workers,shuffle = True)\n",
        "'''"
      ],
      "metadata": {
        "colab": {
          "base_uri": "https://localhost:8080/",
          "height": 53
        },
        "id": "1UGwqUeCjmd1",
        "outputId": "d74b6789-1c12-4486-e0a3-bc146752ee5f"
      },
      "execution_count": 3,
      "outputs": [
        {
          "output_type": "execute_result",
          "data": {
            "text/plain": [
              "'\\nbatch_size = 400\\n# two sub processes used for data loading\\nnum_workers = 1\\n\\n#get data loader\\ntrain_loader = torch.utils.data.DataLoader(training_set,batch_size = batch_size ,num_workers = num_workers,shuffle = True)\\nvalid_loader = torch.utils.data.DataLoader(valid_set,batch_size = batch_size ,num_workers = num_workers,shuffle = True)\\ntest_loader = torch.utils.data.DataLoader(test_set,batch_size = batch_size,num_workers = num_workers,shuffle = True)\\n'"
            ],
            "application/vnd.google.colaboratory.intrinsic+json": {
              "type": "string"
            }
          },
          "metadata": {},
          "execution_count": 3
        }
      ]
    },
    {
      "cell_type": "code",
      "source": [
        "'''\n",
        "class small_dataset(Dataset):\n",
        "\n",
        "    def __init__(self, data, transform):\n",
        "        self.data = data\n",
        "        self.transform = transform\n",
        "\n",
        "    def __len__(self):\n",
        "        return len(self.data.shape[0])\n",
        "\n",
        "    def __getitem__(self, idx):\n",
        "        item = self.data[idx]\n",
        "        item = self.transform(item)\n",
        "        return item\n",
        "'''\n"
      ],
      "metadata": {
        "colab": {
          "base_uri": "https://localhost:8080/",
          "height": 53
        },
        "id": "U7xMiFHenlXD",
        "outputId": "64a1ee77-7eb0-4f60-c2ca-164cf91acd48"
      },
      "execution_count": 4,
      "outputs": [
        {
          "output_type": "execute_result",
          "data": {
            "text/plain": [
              "'\\nclass small_dataset(Dataset):\\n\\n    def __init__(self, data, transform):\\n        self.data = data\\n        self.transform = transform\\n\\n    def __len__(self):\\n        return len(self.data.shape[0])\\n\\n    def __getitem__(self, idx):\\n        item = self.data[idx]\\n        item = self.transform(item)\\n        return item\\n'"
            ],
            "application/vnd.google.colaboratory.intrinsic+json": {
              "type": "string"
            }
          },
          "metadata": {},
          "execution_count": 4
        }
      ]
    },
    {
      "cell_type": "markdown",
      "source": [
        "img_size = 48 "
      ],
      "metadata": {
        "id": "CW1MxNmaBNS3"
      }
    },
    {
      "cell_type": "code",
      "source": [
        "#Convolutional Neural Network Architecture\n",
        "class CNN(nn.Module):\n",
        "    def __init__(self):\n",
        "        super(CNN, self).__init__()\n",
        "\n",
        "        self.pool = nn.MaxPool2d(2, 2) #kernel_size, stride \n",
        "        self.conv1 = nn.Conv2d(3, 5, 3, padding = 2) #in_channels, out_chanels, kernel_size\n",
        "        self.conv2 = nn.Conv2d(5, 25, 3) #in_channels, out_chanels, kernel_size\n",
        "        self.conv3 = nn.Conv2d(25, 50, 3)\n",
        "        self.conv4 = nn.Conv2d(50, 100, 3)\n",
        "      \n",
        "        self.dropout=nn.Dropout(0.3)\n",
        "        self.fc1 = nn.Linear(100*1*1, 32) #chanels*dimension\n",
        "        self.fc2 = nn.Linear(32, 7) #last output channel always = 7\n",
        "\n",
        "    def forward(self, x):\n",
        "        x = self.pool(F.relu(self.conv1(x)))\n",
        "        # 25x25\n",
        "        x = self.pool(F.relu(self.conv2(x)))\n",
        "        # 11x11\n",
        "        x = self.pool(F.relu(self.conv3(x)))\n",
        "        # 4x4\n",
        "        x = self.pool(F.relu(self.conv4(x)))\n",
        "        # 1x1\n",
        "      \n",
        "        x = x.view(-1, 100*1*1)\n",
        "\n",
        "        x=F.relu(self.dropout(self.fc1(x)))\n",
        "        x=F.relu(self.dropout(self.fc2(x)))\n",
        "        '''\n",
        "        x = F.relu(self.fc1(x))\n",
        "        x = self.fc2(x)\n",
        "        '''\n",
        "        x = x.squeeze(1)\n",
        "        \n",
        "        return x"
      ],
      "metadata": {
        "id": "U4pkyLBiApwZ"
      },
      "execution_count": 5,
      "outputs": []
    },
    {
      "cell_type": "code",
      "source": [
        "def get_accuracy(model, dataloader):\n",
        "    \n",
        "\n",
        "    correct = 0\n",
        "    total = 0\n",
        "    for imgs, labels in dataloader:\n",
        "        \n",
        "        if use_cuda and torch.cuda.is_available():\n",
        "            imgs = imgs.cuda()\n",
        "            labels = labels.cuda()\n",
        "\n",
        "        output = model(imgs)\n",
        "        \n",
        "        #select index with maximum prediction score\n",
        "        pred = output.max(1, keepdim=True)[1]\n",
        "        correct += pred.eq(labels.view_as(pred)).sum().item()\n",
        "        total += imgs.shape[0]\n",
        "    return correct / total"
      ],
      "metadata": {
        "id": "CX0EUse3A1nB"
      },
      "execution_count": 6,
      "outputs": []
    },
    {
      "cell_type": "code",
      "source": [
        "def train(model, train_data, val_data, batch_size=32, num_epochs=200, lr = 0.1):\n",
        "    num_workers = 1\n",
        "    train_loader = torch.utils.data.DataLoader(train_data, batch_size=batch_size, \n",
        "                                           num_workers=num_workers, shuffle=True)\n",
        "    val_loader = torch.utils.data.DataLoader(val_data, batch_size=batch_size, \n",
        "                                          num_workers=num_workers, shuffle=True)\n",
        "    criterion = nn.CrossEntropyLoss()\n",
        "    optimizer = optim.Adam(model.parameters(), lr=lr)\n",
        "\n",
        "    iters, losses, train_acc, val_acc = [], [], [], []\n",
        "    '''\n",
        "    #we plot of images for verification\n",
        "    data_iter = iter(train_loader)\n",
        "    images, labels = data_iter.next()\n",
        "    images = images.numpy()\n",
        "    classes = ['angry', 'disgust', 'fear', 'happy', 'neutral', 'sad', 'surprise']\n",
        "\n",
        "    fig = plt.figure(figsize=(25, 4))\n",
        "    for idx in np.arange(20):\n",
        "        ax = fig.add_subplot(2, 20/2, idx+1, xticks=[], yticks=[])\n",
        "        img = np.transpose(images[idx], (1, 2, 0))\n",
        "        #to disable the clip warning when ploting\n",
        "        img = img/np.amax(img)\n",
        "        img = np.clip(img, 0, 1)\n",
        "        plt.imshow(img)\n",
        "        ax.set_title(classes[labels[idx]])\n",
        "    '''\n",
        "    # training\n",
        "    n = 0 # the number of iterations\n",
        "    for epoch in range(num_epochs):\n",
        "        for imgs, labels in iter(train_loader):\n",
        "\n",
        "            if use_cuda and torch.cuda.is_available():\n",
        "                imgs = imgs.cuda()\n",
        "                labels = labels.cuda()\n",
        "\n",
        "            out = model(imgs)             # forward pass\n",
        "\n",
        "            loss = criterion(out, labels) # compute the total loss\n",
        "            loss.backward()               # backward pass (compute parameter updates)\n",
        "            optimizer.step()              # make the updates for each parameter\n",
        "            optimizer.zero_grad()         # a clean up step for PyTorch\n",
        "            n += 1\n",
        "\n",
        "        # save the current training information\n",
        "        iters.append(n)\n",
        "        losses.append(float(loss)/batch_size)             # compute *average* loss\n",
        "        train_acc.append(get_accuracy(model, train_loader)) # compute training accuracy \n",
        "        val_acc.append(get_accuracy(model, val_loader))  # compute validation accuracy\n",
        "            \n",
        "        #print each epoch acc \n",
        "        print(\"epoch:\", epoch, \"acc = \", train_acc[epoch])\n",
        "\n",
        "            \n",
        "\n",
        "    # plotting\n",
        "    plt.title(\"Training Curve\")\n",
        "    plt.plot(iters, losses, label=\"Train\")\n",
        "    plt.xlabel(\"Iterations\")\n",
        "    plt.ylabel(\"Loss\")\n",
        "    plt.show()\n",
        "\n",
        "    plt.title(\"Training Curve\")\n",
        "    plt.plot(iters, train_acc, label=\"Train\")\n",
        "    plt.plot(iters, val_acc, label=\"Validation\")\n",
        "    plt.xlabel(\"Iterations\")\n",
        "    plt.ylabel(\"Training Accuracy\")\n",
        "    plt.legend(loc='best')\n",
        "    plt.show()\n",
        "\n",
        "    print(\"Final Training Accuracy: {}\".format(train_acc[-1]))\n",
        "    print(\"Final Validation Accuracy: {}\".format(val_acc[-1]))\n"
      ],
      "metadata": {
        "id": "PWPxMA3gA2Gi"
      },
      "execution_count": 10,
      "outputs": []
    },
    {
      "cell_type": "code",
      "source": [
        "'''\n",
        "train_path = '/content/gdrive/My Drive/aps360/train/'\n",
        "val_path = '/content/gdrive/My Drive/aps360/val/'\n",
        "test_path = '/content/gdrive/My Drive/aps360/test/'\n",
        "\n",
        "train_data = datasets.DatasetFolder(training_set, loader=torch.load, extensions=('.tensor'))\n",
        "val_data = datasets.DatasetFolder(valid_set, loader=torch.load, extensions=('.tensor'))\n",
        "test_data = datasets.DatasetFolder(test_set, loader=torch.load, extensions=('.tensor'))\n",
        "'''"
      ],
      "metadata": {
        "id": "8TP_4QGdEdVr",
        "colab": {
          "base_uri": "https://localhost:8080/",
          "height": 53
        },
        "outputId": "d3996c81-acd4-4081-9319-119a66036b65"
      },
      "execution_count": 8,
      "outputs": [
        {
          "output_type": "execute_result",
          "data": {
            "text/plain": [
              "\"\\ntrain_path = '/content/gdrive/My Drive/aps360/train/'\\nval_path = '/content/gdrive/My Drive/aps360/val/'\\ntest_path = '/content/gdrive/My Drive/aps360/test/'\\n\\ntrain_data = datasets.DatasetFolder(training_set, loader=torch.load, extensions=('.tensor'))\\nval_data = datasets.DatasetFolder(valid_set, loader=torch.load, extensions=('.tensor'))\\ntest_data = datasets.DatasetFolder(test_set, loader=torch.load, extensions=('.tensor'))\\n\""
            ],
            "application/vnd.google.colaboratory.intrinsic+json": {
              "type": "string"
            }
          },
          "metadata": {},
          "execution_count": 8
        }
      ]
    },
    {
      "cell_type": "code",
      "source": [
        "\n",
        "\n",
        "#train\n",
        "model = CNN()\n",
        "use_cuda = True\n",
        "model.cuda()\n",
        "\n",
        "'''\n",
        "training_set = '/content/drive/MyDrive/APS360 Team/aps360_dataset/small-dataset/train'\n",
        "valid_set = '/content/drive/MyDrive/APS360 Team/aps360_dataset/small-dataset/valid'\n",
        "#small_training_set = small_dataset(training_set,data_transform)\n",
        "#small_valid_set = small_dataset(valid_set,data_transform)\n",
        "'''\n",
        "train(model,training_set,valid_set)"
      ],
      "metadata": {
        "id": "uQ_udpVWA72X",
        "colab": {
          "base_uri": "https://localhost:8080/",
          "height": 781
        },
        "outputId": "31955a30-8bae-4538-f792-1c5cbe1603ef"
      },
      "execution_count": 9,
      "outputs": [
        {
          "output_type": "stream",
          "name": "stdout",
          "text": [
            "epoch: 0 acc =  0.15714285714285714\n",
            "epoch: 1 acc =  0.14285714285714285\n",
            "epoch: 2 acc =  0.11428571428571428\n",
            "epoch: 3 acc =  0.14285714285714285\n",
            "epoch: 4 acc =  0.14285714285714285\n",
            "epoch: 5 acc =  0.14285714285714285\n",
            "epoch: 6 acc =  0.14285714285714285\n",
            "epoch: 7 acc =  0.14285714285714285\n",
            "epoch: 8 acc =  0.14285714285714285\n",
            "epoch: 9 acc =  0.14285714285714285\n"
          ]
        },
        {
          "output_type": "display_data",
          "data": {
            "text/plain": [
              "<Figure size 432x288 with 1 Axes>"
            ],
            "image/png": "[encoded data removed]"
          },
          "metadata": {
            "needs_background": "light"
          }
        },
        {
          "output_type": "display_data",
          "data": {
            "text/plain": [
              "<Figure size 432x288 with 1 Axes>"
            ],
            "image/png": "[encoded data removed]"
          },
          "metadata": {
            "needs_background": "light"
          }
        },
        {
          "output_type": "stream",
          "name": "stdout",
          "text": [
            "Final Training Accuracy: 0.14285714285714285\n",
            "Final Validation Accuracy: 0.14285714285714285\n"
          ]
        }
      ]
    }
  ]
}