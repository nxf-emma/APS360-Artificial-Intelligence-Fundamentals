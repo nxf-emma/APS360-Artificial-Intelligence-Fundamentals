{
  "nbformat": 4,
  "nbformat_minor": 0,
  "metadata": {
    "colab": {
      "name": "new structure 2.ipynb",
      "provenance": [],
      "authorship_tag": "ABX9TyO/8qd9prwIstFfmhQhVqxC",
      "include_colab_link": true
    },
    "kernelspec": {
      "name": "python3",
      "display_name": "Python 3"
    },
    "language_info": {
      "name": "python"
    },
    "accelerator": "GPU"
  },
  "cells": [
    {
      "cell_type": "markdown",
      "metadata": {
        "id": "view-in-github",
        "colab_type": "text"
      },
      "source": [
        "<a href=\"https://colab.research.google.com/github/nxf-emma/APS360-Artificial-Intelligence-Fundamentals/blob/main/Alexnet.ipynb\" target=\"_parent\"><img src=\"https://colab.research.google.com/assets/colab-badge.svg\" alt=\"Open In Colab\"/></a>"
      ]
    },
    {
      "cell_type": "code",
      "execution_count": null,
      "metadata": {
        "colab": {
          "base_uri": "https://localhost:8080/"
        },
        "id": "1sah8OC1-pIq",
        "outputId": "e852ec86-07c5-4087-8036-29765574e9d3"
      },
      "outputs": [
        {
          "output_type": "stream",
          "name": "stdout",
          "text": [
            "Mounted at /content/drive\n"
          ]
        }
      ],
      "source": [
        "#mount googledrive\n",
        "from google.colab import drive\n",
        "drive.mount('/content/drive')"
      ]
    },
    {
      "cell_type": "code",
      "source": [
        "import torch\n",
        "import numpy as np\n",
        "import os\n",
        "import torch.nn as nn\n",
        "import torch.nn.functional as F\n",
        "import matplotlib.pyplot as plt\n",
        "import torch.optim as optim\n",
        "import torchvision\n",
        "from torchvision import datasets, models, transforms\n",
        "from torch.utils.data.sampler import SubsetRandomSampler"
      ],
      "metadata": {
        "id": "mDAi3Xqw-vzP"
      },
      "execution_count": null,
      "outputs": []
    },
    {
      "cell_type": "markdown",
      "source": [
        "# train"
      ],
      "metadata": {
        "id": "blytVQUDUwYK"
      }
    },
    {
      "cell_type": "code",
      "source": [
        "def get_accuracy(model, dataloader):\n",
        "    \n",
        "\n",
        "    correct = 0\n",
        "    total = 0\n",
        "    for imgs, labels in dataloader:\n",
        "        \n",
        "        if use_cuda and torch.cuda.is_available():\n",
        "            imgs = imgs.cuda()\n",
        "            labels = labels.cuda()\n",
        "\n",
        "        output = model(imgs)\n",
        "        \n",
        "        #select index with maximum prediction score\n",
        "        pred = output.max(1, keepdim=True)[1]\n",
        "        correct += pred.eq(labels.view_as(pred)).sum().item()\n",
        "        total += imgs.shape[0]\n",
        "    return correct / total"
      ],
      "metadata": {
        "id": "Y22pKAZe-yXW"
      },
      "execution_count": 57,
      "outputs": []
    },
    {
      "cell_type": "code",
      "source": [
        "#Convolutional Neural Network Architecture\n",
        "class CNN(nn.Module):\n",
        "    def __init__(self):\n",
        "        super(CNN, self).__init__()\n",
        "\n",
        "        self.pool = nn.MaxPool2d(2, 2) #kernel_size, stride \n",
        "\n",
        "        self.conv1 = nn.Conv2d(3, 5, 3, padding = 2) #in_channels, out_chanels, kernel_size \n",
        "        self.conv2 = nn.Conv2d(5, 25, 3) #in_channels, out_chanels, kernel_size\n",
        "        self.conv3 = nn.Conv2d(25, 50, 1)\n",
        "        self.conv4 = nn.Conv2d(50, 200, 1)\n",
        "        \n",
        "        self.fc1 = nn.Linear(200*2*2, 70) #chanels*dimension\n",
        "        self.fc3 = nn.Linear(70, 32)\n",
        "        self.fc2 = nn.Linear(32, 7) #last output channel always = 7\n",
        "        self.dropout = nn.Dropout(0.4)\n",
        "\n",
        "    def forward(self, x):\n",
        "        x = self.pool(F.relu(self.conv1(x)))\n",
        "        # 25x25\n",
        "        x = self.pool(F.relu(self.conv2(x)))\n",
        "        # 11\n",
        "        x = self.pool(F.relu(self.conv3(x)))\n",
        "        # 5\n",
        "        x = self.pool(F.relu(self.conv4(x)))\n",
        "        # 2\n",
        "\n",
        "\n",
        "        x = x.view(-1, 200*4)\n",
        "        x = F.relu(self.dropout(self.fc1(x)))\n",
        "        x = F.relu(self.dropout(self.fc3(x)))\n",
        "        x = self.fc2(x)\n",
        "        x = x.squeeze(1)\n",
        "        return x"
      ],
      "metadata": {
        "id": "S2CVXHj6-0j2"
      },
      "execution_count": 37,
      "outputs": []
    },
    {
      "cell_type": "code",
      "source": [
        "def train2(model, train_data, val_data, batch_size=3000, num_epochs=5, lr = 0.01):\n",
        "    \n",
        "    num_workers = 1\n",
        "    train_loader = torch.utils.data.DataLoader(train_data, batch_size=batch_size, \n",
        "                                           num_workers=num_workers, shuffle=True)\n",
        "    val_loader = torch.utils.data.DataLoader(val_data, batch_size=batch_size, \n",
        "                                          num_workers=num_workers, shuffle=True)\n",
        "    criterion = nn.CrossEntropyLoss()\n",
        "    optimizer = optim.SGD(model.parameters(), lr=lr, momentum=0,weight_decay=5e-4)\n",
        "\n",
        "    iters, losses, train_acc, val_acc = [], [], [], []\n",
        "\n",
        "    # training\n",
        "    n = 0 # the number of iterations\n",
        "    for epoch in range(num_epochs):\n",
        "        print(\"Epoch\", epoch)\n",
        "        n = 0\n",
        "        for imgs, labels in iter(train_loader):\n",
        "            # print(\"iteration \", n)\n",
        "\n",
        "            if use_cuda and torch.cuda.is_available():\n",
        "                imgs = imgs.cuda()\n",
        "                labels = labels.cuda()\n",
        "\n",
        "            out = model(imgs)             # forward pass\n",
        "\n",
        "            loss = criterion(out, labels) # compute the total loss\n",
        "            loss.backward()               # backward pass (compute parameter updates)\n",
        "            optimizer.step()              # make the updates for each parameter\n",
        "            optimizer.zero_grad()         # a clean up step for PyTorch\n",
        "            n += 1\n",
        "\n",
        "        # save the current training information\n",
        "        iters.append(epoch)\n",
        "        losses.append(float(loss)/batch_size)             # compute *average* loss\n",
        "        # calculate accuracy at each epoch instead of iteration\n",
        "        # def get_accuracy(model, data):\n",
        "        train_acc.append(get_accuracy(model, train_loader)) # compute training accuracy \n",
        "        # compute validation acc every epoch\n",
        "        val_acc.append(get_accuracy(model, val_loader))  # compute validation accuracy\n",
        "        print(\"Epoch: \", epoch, \" Train Accuracy: \", train_acc[epoch])\n",
        "        print(\"Epoch: \", epoch, \" Validation Accuracy: \", val_acc[epoch])\n",
        "\n",
        "            \n",
        "\n",
        "    # plotting\n",
        "    plt.title(\"Training Curve\")\n",
        "    plt.plot(iters, losses, label=\"Train\")\n",
        "    plt.xlabel(\"Iterations\")\n",
        "    plt.ylabel(\"Loss\")\n",
        "    plt.show()\n",
        "\n",
        "    plt.title(\"Training Curve\")\n",
        "    plt.plot(iters, train_acc, label=\"Train\")\n",
        "    plt.plot(iters, val_acc, label=\"Validation\")\n",
        "    plt.xlabel(\"Iterations\")\n",
        "    plt.ylabel(\"Training Accuracy\")\n",
        "    plt.legend(loc='best')\n",
        "    plt.show()\n",
        "\n",
        "    print(\"Final Training Accuracy: {}\".format(train_acc[-1]))\n",
        "    print(\"Final Validation Accuracy: {}\".format(val_acc[-1]))"
      ],
      "metadata": {
        "id": "3zr9hnXl_ahW"
      },
      "execution_count": 66,
      "outputs": []
    },
    {
      "cell_type": "code",
      "source": [
        "# train_path = '/content/drive/MyDrive/APS360 Team/aps360_dataset/FER-2013_final/train'\n",
        "# val_path = '/content/drive/MyDrive/APS360 Team/aps360_dataset/FER-2013_final/val'\n",
        "# test_path = '/content/drive/MyDrive/APS360 Team/aps360_dataset/FER-2013_final/test'\n",
        "\n",
        "# train_data = datasets.DatasetFolder(train_path, loader=torch.load, extensions=('.tensor'))\n",
        "# val_data = datasets.DatasetFolder(val_path, loader=torch.load, extensions=('.tensor'))\n",
        "# test_data = datasets.DatasetFolder(test_path, loader=torch.load, extensions=('.tensor'))"
      ],
      "metadata": {
        "id": "5Lb5IYAF_iP1"
      },
      "execution_count": null,
      "outputs": []
    },
    {
      "cell_type": "markdown",
      "source": [
        "# AlexNet"
      ],
      "metadata": {
        "id": "OsrfMfdZOV46"
      }
    },
    {
      "cell_type": "code",
      "source": [
        "alexnet = torchvision.models.alexnet(pretrained=True)"
      ],
      "metadata": {
        "id": "7nqfB7WJOKy7"
      },
      "execution_count": 32,
      "outputs": []
    },
    {
      "cell_type": "code",
      "source": [
        "parent_path = '/content/drive/MyDrive/APS360 Team/aps360_dataset/small-dataset/'\n",
        "\n",
        "data_transform = transforms.Compose(\n",
        "    [\n",
        "        transforms.Resize((224,224)), \n",
        "        #convert image to grayscale\n",
        "        # transforms.Grayscale(num_output_channels=3),\n",
        "        #randomly adding brightness \n",
        "        # transforms.ColorJitter(brightness=(1,1.2)),\n",
        "        #apply ramdom rotation from -30 to 30 degrees\n",
        "        # transforms.RandomRotation(30),\n",
        "        #apply random horizontal flip with probability of 50% \n",
        "        transforms.RandomHorizontalFlip(p=0.5),\n",
        "        transforms.ToTensor(),\n",
        "        #normalize the data with 0.5 mean and variance.\n",
        "        transforms.Normalize((0.5073955,), (0.25,), inplace=True)\n",
        "       \n",
        "    ])\n",
        "training_set = torchvision.datasets.ImageFolder(parent_path+'train',data_transform)\n",
        "valid_set = torchvision.datasets.ImageFolder(parent_path+'valid',data_transform)\n",
        "\n",
        "# train_data = datasets.DatasetFolder(train_path, loader=torch.load, extensions=('.tensor'))\n",
        "# val_data = datasets.DatasetFolder(val_path, loader=torch.load, extensions=('.tensor'))"
      ],
      "metadata": {
        "id": "ZQNca4vpOVXa"
      },
      "execution_count": 58,
      "outputs": []
    },
    {
      "cell_type": "code",
      "source": [
        "def get_accuracy_alex(model, data):\n",
        "    correct = 0\n",
        "    total = 0\n",
        "    # model.eval() #*********#\n",
        "    for imgs, labels in torch.utils.data.DataLoader(data):\n",
        "\n",
        "\n",
        "        #############################################\n",
        "        #To Enable GPU Usage\n",
        "        if use_cuda and torch.cuda.is_available():\n",
        "          imgs = imgs.cuda()\n",
        "          labels = labels.cuda()\n",
        "        #############################################\n",
        "        output = model(imgs)\n",
        "        pred = output.max(1, keepdim=True)[1] # get the index of the max logit\n",
        "        correct += pred.eq(labels.view_as(pred)).sum().item()\n",
        "        total += imgs.shape[0]\n",
        "    return correct / total"
      ],
      "metadata": {
        "id": "5QqUdVklPNyx"
      },
      "execution_count": null,
      "outputs": []
    },
    {
      "cell_type": "code",
      "source": [
        "def train_alex(model, train, valid, batch_size=20, num_iters=1, learn_rate=0.01, weight_decay=0):\n",
        "    train_loader = torch.utils.data.DataLoader(train,\n",
        "                                               batch_size=batch_size,\n",
        "                                               shuffle=True) # shuffle after every epoch\n",
        "    criterion = nn.CrossEntropyLoss()\n",
        "    optimizer = optim.SGD(model.parameters(), lr=learn_rate, momentum=0.9, weight_decay=weight_decay)\n",
        "\n",
        "    iters, losses, train_acc, val_acc = [], [], [], []\n",
        "\n",
        "    # training\n",
        "    n = 0 # the number of iterations\n",
        "    while True:\n",
        "        if n >= num_iters:\n",
        "            break\n",
        "        for imgs, labels in iter(train_loader):\n",
        "\n",
        "\n",
        "            #############################################\n",
        "            #To Enable GPU Usage\n",
        "            if use_cuda and torch.cuda.is_available():\n",
        "              imgs = imgs.cuda()\n",
        "              labels = labels.cuda()\n",
        "            #############################################\n",
        "\n",
        "            # model.train() #*****************************#\n",
        "            out = model(imgs)             # forward pass\n",
        "            loss = criterion(out, labels) # compute the total loss\n",
        "            loss.backward()               # backward pass (compute parameter updates)\n",
        "            optimizer.step()              # make the updates for each parameter\n",
        "            optimizer.zero_grad()         # a clean up step for PyTorch\n",
        "\n",
        "            # save the current training information\n",
        "        iters.append(n)\n",
        "        losses.append(float(loss)/batch_size)        # compute *average* loss\n",
        "        train_acc.append(get_accuracy_alex(model, train)) # compute training accuracy \n",
        "        val_acc.append(get_accuracy_alex(model, valid))   # compute validation accuracy\n",
        "        print (\"Epoch \" ,n, \"Train Accuracy \", train_acc[n])\n",
        "        print (\"Epoch \" ,n, \"Validation Accuracy \", val_acc[n])\n",
        "        n += 1\n",
        "\n",
        "        \n",
        "\n",
        "\n",
        "    # plotting\n",
        "    plt.title(\"Training Curve\")\n",
        "    plt.plot(iters, losses, label=\"Train\")\n",
        "    plt.xlabel(\"Epochs\")\n",
        "    plt.ylabel(\"Loss\")\n",
        "    plt.show()\n",
        "\n",
        "    plt.title(\"Accuracy Curve\")\n",
        "    plt.plot(iters, train_acc, label=\"Train\")\n",
        "    plt.plot(iters, val_acc, label=\"Validation\")\n",
        "    plt.xlabel(\"Epochs\")\n",
        "    plt.ylabel(\"Training Accuracy\")\n",
        "    plt.legend(loc='best')\n",
        "    plt.show()\n",
        "\n",
        "    print(\"Final Training Accuracy: {}\".format(train_acc[-1]))\n",
        "    print(\"Final Validation Accuracy: {}\".format(val_acc[-1]))"
      ],
      "metadata": {
        "id": "J9L8eCjUO4sY"
      },
      "execution_count": null,
      "outputs": []
    },
    {
      "cell_type": "code",
      "source": [
        "def save_feature(data, path):\n",
        "  \n",
        "  # classes = ['A', 'B', 'C', 'D', 'E', 'F', 'G', 'H', 'I']\n",
        "  classes = ['angry', 'disgust', 'fear', 'happy', 'neutral', 'sad', 'surprise']\n",
        "\n",
        "\n",
        "  dataloader = torch.utils.data.DataLoader(data, batch_size=1) #save one at a time\n",
        "  i = 0\n",
        "  for imgs, labels in (dataloader):\n",
        "    features = alexnet.features(imgs)\n",
        "    #convert to tensor\n",
        "    x = torch.from_numpy(features.detach().numpy()) \n",
        "    # save into drive\n",
        "    fullPath = path + '/' + classes[labels]\n",
        "\n",
        "    # create folder\n",
        "    if not os.path.isdir(fullPath):\n",
        "      os.mkdir(fullPath)\n",
        "    # give name and squeeze https://piazza.com/class/ky528kuhk7b27q?cid=285\n",
        "    torch.save(x.squeeze(0), fullPath+'/' + str(i) + '.tensor')\n",
        "    i = i+1"
      ],
      "metadata": {
        "id": "iyShXBvXRLPK"
      },
      "execution_count": 34,
      "outputs": []
    },
    {
      "cell_type": "code",
      "source": [
        "trainPath = '/content/drive/MyDrive/APS360 Team/Small AlexNet/train'\n",
        "valPath = '/content/drive/MyDrive/APS360 Team/Small AlexNet/valid'"
      ],
      "metadata": {
        "id": "OjZ_ISyvR__h"
      },
      "execution_count": 35,
      "outputs": []
    },
    {
      "cell_type": "code",
      "source": [
        ""
      ],
      "metadata": {
        "id": "82y8aOZASuCv"
      },
      "execution_count": null,
      "outputs": []
    },
    {
      "cell_type": "markdown",
      "source": [
        "# AlexNet"
      ],
      "metadata": {
        "id": "Sct7ff0TRh7r"
      }
    },
    {
      "cell_type": "code",
      "source": [
        "# trainData, valData = getSmallerDataLoaders(32)\n",
        "trainData = torchvision.datasets.ImageFolder(trainPath, transform = data_transform)"
      ],
      "metadata": {
        "id": "89qQ0hVoTF3m"
      },
      "execution_count": 21,
      "outputs": []
    },
    {
      "cell_type": "code",
      "source": [
        "save_feature(training_set, trainPath)\n",
        "save_feature(valid_set, valPath)"
      ],
      "metadata": {
        "id": "eXKlYr24TKuA"
      },
      "execution_count": 36,
      "outputs": []
    },
    {
      "cell_type": "code",
      "source": [
        "# Modified from Tutorial 3a and lecture notes\n",
        "class CNNalex(nn.Module):\n",
        "    def __init__(self):\n",
        "        super(CNNalex, self).__init__()\n",
        "        # nn.Conv2d(256,300,5,2)\n",
        "        self.conv1 = nn.Conv2d(256,300,3, padding = 2) # Modified to 3, in_channels, out_chanels, kernel_size\n",
        "        self.conv2 = nn.Conv2d(300,350,3)\n",
        "\n",
        "        self.pool = nn.MaxPool2d(2, 2) #kernel_size, stride \n",
        "        self.fc1 = nn.Linear(350*2*2, 32) # Modified first parameter\n",
        "        self.fc2 = nn.Linear(32, 7)\n",
        "\n",
        "    def forward(self, x):\n",
        "        x = self.pool(F.relu(self.conv1(x))) # 4\n",
        "        x = (F.relu(self.conv2(x))) #2\n",
        "        x = x.view(-1, 350*2*2) # Modified size\n",
        "        x = F.relu(self.fc1(x))\n",
        "        x = self.fc2(x)\n",
        "        return x"
      ],
      "metadata": {
        "id": "clTqe1L2XYdd"
      },
      "execution_count": 62,
      "outputs": []
    },
    {
      "cell_type": "code",
      "source": [
        "tPath = '/content/drive/MyDrive/APS360 Team/Small AlexNet/train'\n",
        "vPath = '/content/drive/MyDrive/APS360 Team/Small AlexNet/valid'\n",
        "\n",
        "tData = torchvision.datasets.DatasetFolder(tPath, loader=torch.load, extensions = ('.tensor'))\n",
        "vData = torchvision.datasets.DatasetFolder(vPath,loader=torch.load, extensions = ('.tensor'))"
      ],
      "metadata": {
        "id": "AUqv_LSqYM2k"
      },
      "execution_count": 60,
      "outputs": []
    },
    {
      "cell_type": "code",
      "source": [
        "use_cuda = True\n",
        "model1 = CNNalex()\n",
        "\n",
        "if use_cuda and torch.cuda.is_available():\n",
        "  model1.cuda()\n",
        "  print('CUDA is available!  Training on GPU ...')\n",
        "else:\n",
        "  print('CUDA is not available.  Training on CPU ...')\n",
        "\n",
        "train2(model1, tData, vData, batch_size = 1, lr= 0.01, num_epochs=20)\n"
      ],
      "metadata": {
        "id": "StsTafJpRGPT",
        "colab": {
          "base_uri": "https://localhost:8080/"
        },
        "outputId": "630c5f5e-9ede-4526-e96b-359067b1e71c"
      },
      "execution_count": null,
      "outputs": [
        {
          "output_type": "stream",
          "name": "stdout",
          "text": [
            "CUDA is available!  Training on GPU ...\n",
            "Epoch 0\n",
            "Epoch:  0  Train Accuracy:  0.29428571428571426\n",
            "Epoch:  0  Validation Accuracy:  0.28549618320610687\n",
            "Epoch 1\n",
            "Epoch:  1  Train Accuracy:  0.3414285714285714\n",
            "Epoch:  1  Validation Accuracy:  0.2931297709923664\n",
            "Epoch 2\n",
            "Epoch:  2  Train Accuracy:  0.4185714285714286\n",
            "Epoch:  2  Validation Accuracy:  0.3145038167938931\n",
            "Epoch 3\n",
            "Epoch:  3  Train Accuracy:  0.5685714285714286\n",
            "Epoch:  3  Validation Accuracy:  0.3709923664122137\n",
            "Epoch 4\n",
            "Epoch:  4  Train Accuracy:  0.42\n",
            "Epoch:  4  Validation Accuracy:  0.27938931297709924\n",
            "Epoch 5\n",
            "Epoch:  5  Train Accuracy:  0.71\n",
            "Epoch:  5  Validation Accuracy:  0.39236641221374047\n",
            "Epoch 6\n",
            "Epoch:  6  Train Accuracy:  0.6642857142857143\n",
            "Epoch:  6  Validation Accuracy:  0.3450381679389313\n",
            "Epoch 7\n",
            "Epoch:  7  Train Accuracy:  0.7357142857142858\n",
            "Epoch:  7  Validation Accuracy:  0.3801526717557252\n",
            "Epoch 8\n",
            "Epoch:  8  Train Accuracy:  0.7371428571428571\n",
            "Epoch:  8  Validation Accuracy:  0.27633587786259545\n",
            "Epoch 9\n",
            "Epoch:  9  Train Accuracy:  0.7714285714285715\n",
            "Epoch:  9  Validation Accuracy:  0.33587786259541985\n",
            "Epoch 10\n",
            "Epoch:  10  Train Accuracy:  0.8485714285714285\n",
            "Epoch:  10  Validation Accuracy:  0.4122137404580153\n",
            "Epoch 11\n",
            "Epoch:  11  Train Accuracy:  0.9157142857142857\n",
            "Epoch:  11  Validation Accuracy:  0.34961832061068704\n",
            "Epoch 12\n",
            "Epoch:  12  Train Accuracy:  0.9614285714285714\n",
            "Epoch:  12  Validation Accuracy:  0.3648854961832061\n",
            "Epoch 13\n",
            "Epoch:  13  Train Accuracy:  0.8528571428571429\n",
            "Epoch:  13  Validation Accuracy:  0.3145038167938931\n",
            "Epoch 14\n",
            "Epoch:  14  Train Accuracy:  0.9657142857142857\n",
            "Epoch:  14  Validation Accuracy:  0.4076335877862595\n",
            "Epoch 15\n",
            "Epoch:  15  Train Accuracy:  0.8828571428571429\n",
            "Epoch:  15  Validation Accuracy:  0.3969465648854962\n",
            "Epoch 16\n",
            "Epoch:  16  Train Accuracy:  0.9742857142857143\n",
            "Epoch:  16  Validation Accuracy:  0.3709923664122137\n",
            "Epoch 17\n"
          ]
        }
      ]
    },
    {
      "cell_type": "code",
      "source": [
        "train2(model1, tData, vData, batch_size = 10, lr= 0.001, num_epochs=15)"
      ],
      "metadata": {
        "colab": {
          "base_uri": "https://localhost:8080/",
          "height": 1000
        },
        "id": "wNJ6kh1heP9W",
        "outputId": "f95313cc-4a65-4968-a85d-4728303dc5e3"
      },
      "execution_count": 65,
      "outputs": [
        {
          "output_type": "stream",
          "name": "stdout",
          "text": [
            "Epoch 0\n",
            "Epoch:  0  Train Accuracy:  0.7057142857142857\n",
            "Epoch:  0  Validation Accuracy:  0.3969465648854962\n",
            "Epoch 1\n",
            "Epoch:  1  Train Accuracy:  0.7971428571428572\n",
            "Epoch:  1  Validation Accuracy:  0.3786259541984733\n",
            "Epoch 2\n",
            "Epoch:  2  Train Accuracy:  0.86\n",
            "Epoch:  2  Validation Accuracy:  0.37251908396946565\n",
            "Epoch 3\n",
            "Epoch:  3  Train Accuracy:  0.94\n",
            "Epoch:  3  Validation Accuracy:  0.3511450381679389\n",
            "Epoch 4\n",
            "Epoch:  4  Train Accuracy:  0.9628571428571429\n",
            "Epoch:  4  Validation Accuracy:  0.39541984732824426\n",
            "Epoch 5\n",
            "Epoch:  5  Train Accuracy:  0.9857142857142858\n",
            "Epoch:  5  Validation Accuracy:  0.4152671755725191\n",
            "Epoch 6\n",
            "Epoch:  6  Train Accuracy:  0.9914285714285714\n",
            "Epoch:  6  Validation Accuracy:  0.4152671755725191\n",
            "Epoch 7\n",
            "Epoch:  7  Train Accuracy:  1.0\n",
            "Epoch:  7  Validation Accuracy:  0.3938931297709924\n",
            "Epoch 8\n",
            "Epoch:  8  Train Accuracy:  1.0\n",
            "Epoch:  8  Validation Accuracy:  0.38625954198473283\n",
            "Epoch 9\n",
            "Epoch:  9  Train Accuracy:  1.0\n",
            "Epoch:  9  Validation Accuracy:  0.4076335877862595\n",
            "Epoch 10\n",
            "Epoch:  10  Train Accuracy:  1.0\n",
            "Epoch:  10  Validation Accuracy:  0.39083969465648855\n",
            "Epoch 11\n",
            "Epoch:  11  Train Accuracy:  1.0\n",
            "Epoch:  11  Validation Accuracy:  0.4\n",
            "Epoch 12\n",
            "Epoch:  12  Train Accuracy:  1.0\n",
            "Epoch:  12  Validation Accuracy:  0.4\n",
            "Epoch 13\n",
            "Epoch:  13  Train Accuracy:  1.0\n",
            "Epoch:  13  Validation Accuracy:  0.39541984732824426\n",
            "Epoch 14\n",
            "Epoch:  14  Train Accuracy:  1.0\n",
            "Epoch:  14  Validation Accuracy:  0.3938931297709924\n"
          ]
        },
        {
          "output_type": "display_data",
          "data": {
            "text/plain": [
              "<Figure size 432x288 with 1 Axes>"
            ],
            "image/png": "[encoded data removed]"
          },
          "metadata": {
            "needs_background": "light"
          }
        },
        {
          "output_type": "display_data",
          "data": {
            "text/plain": [
              "<Figure size 432x288 with 1 Axes>"
            ],
            "image/png": "[encoded data removed]"
          },
          "metadata": {
            "needs_background": "light"
          }
        },
        {
          "output_type": "stream",
          "name": "stdout",
          "text": [
            "Final Training Accuracy: 1.0\n",
            "Final Validation Accuracy: 0.3938931297709924\n"
          ]
        }
      ]
    }
  ]
}